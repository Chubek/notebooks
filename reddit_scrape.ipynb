{
  "nbformat": 4,
  "nbformat_minor": 0,
  "metadata": {
    "colab": {
      "name": "reddit-scrape.ipynb",
      "provenance": [],
      "collapsed_sections": []
    },
    "kernelspec": {
      "name": "python3",
      "display_name": "Python 3"
    }
  },
  "cells": [
    {
      "cell_type": "code",
      "metadata": {
        "id": "Y6eNWjhW-ewa",
        "colab_type": "code",
        "colab": {
          "base_uri": "https://localhost:8080/",
          "height": 348
        },
        "outputId": "d6d8c05e-fb4e-4ac5-a978-75149016bef6"
      },
      "source": [
        "!pip install praw\n",
        "import praw\n",
        "import pandas as pd\n",
        "import datetime as dt"
      ],
      "execution_count": null,
      "outputs": [
        {
          "output_type": "stream",
          "text": [
            "Collecting praw\n",
            "\u001b[?25l  Downloading https://files.pythonhosted.org/packages/25/c0/b9714b4fb164368843b41482a3cac11938021871adf99bf5aaa3980b0182/praw-6.5.1-py3-none-any.whl (134kB)\n",
            "\r\u001b[K     |██▍                             | 10kB 14.7MB/s eta 0:00:01\r\u001b[K     |████▉                           | 20kB 1.8MB/s eta 0:00:01\r\u001b[K     |███████▎                        | 30kB 2.3MB/s eta 0:00:01\r\u001b[K     |█████████▊                      | 40kB 1.7MB/s eta 0:00:01\r\u001b[K     |████████████▏                   | 51kB 1.9MB/s eta 0:00:01\r\u001b[K     |██████████████▋                 | 61kB 2.2MB/s eta 0:00:01\r\u001b[K     |█████████████████               | 71kB 2.4MB/s eta 0:00:01\r\u001b[K     |███████████████████▌            | 81kB 2.6MB/s eta 0:00:01\r\u001b[K     |█████████████████████▉          | 92kB 2.9MB/s eta 0:00:01\r\u001b[K     |████████████████████████▎       | 102kB 2.7MB/s eta 0:00:01\r\u001b[K     |██████████████████████████▊     | 112kB 2.7MB/s eta 0:00:01\r\u001b[K     |█████████████████████████████▏  | 122kB 2.7MB/s eta 0:00:01\r\u001b[K     |███████████████████████████████▋| 133kB 2.7MB/s eta 0:00:01\r\u001b[K     |████████████████████████████████| 143kB 2.7MB/s \n",
            "\u001b[?25hCollecting update-checker>=0.16\n",
            "  Downloading https://files.pythonhosted.org/packages/17/c9/ab11855af164d03be0ff4fddd4c46a5bd44799a9ecc1770e01a669c21168/update_checker-0.16-py2.py3-none-any.whl\n",
            "Collecting websocket-client>=0.54.0\n",
            "\u001b[?25l  Downloading https://files.pythonhosted.org/packages/4c/5f/f61b420143ed1c8dc69f9eaec5ff1ac36109d52c80de49d66e0c36c3dfdf/websocket_client-0.57.0-py2.py3-none-any.whl (200kB)\n",
            "\u001b[K     |████████████████████████████████| 204kB 7.7MB/s \n",
            "\u001b[?25hCollecting prawcore<2.0,>=1.0.1\n",
            "  Downloading https://files.pythonhosted.org/packages/76/b5/ce6282dea45cba6f08a30e25d18e0f3d33277e2c9fcbda75644b8dc0089b/prawcore-1.0.1-py2.py3-none-any.whl\n",
            "Requirement already satisfied: requests>=2.3.0 in /usr/local/lib/python3.6/dist-packages (from update-checker>=0.16->praw) (2.21.0)\n",
            "Requirement already satisfied: six in /usr/local/lib/python3.6/dist-packages (from websocket-client>=0.54.0->praw) (1.12.0)\n",
            "Requirement already satisfied: chardet<3.1.0,>=3.0.2 in /usr/local/lib/python3.6/dist-packages (from requests>=2.3.0->update-checker>=0.16->praw) (3.0.4)\n",
            "Requirement already satisfied: idna<2.9,>=2.5 in /usr/local/lib/python3.6/dist-packages (from requests>=2.3.0->update-checker>=0.16->praw) (2.8)\n",
            "Requirement already satisfied: urllib3<1.25,>=1.21.1 in /usr/local/lib/python3.6/dist-packages (from requests>=2.3.0->update-checker>=0.16->praw) (1.24.3)\n",
            "Requirement already satisfied: certifi>=2017.4.17 in /usr/local/lib/python3.6/dist-packages (from requests>=2.3.0->update-checker>=0.16->praw) (2019.11.28)\n",
            "Installing collected packages: update-checker, websocket-client, prawcore, praw\n",
            "Successfully installed praw-6.5.1 prawcore-1.0.1 update-checker-0.16 websocket-client-0.57.0\n"
          ],
          "name": "stdout"
        }
      ]
    },
    {
      "cell_type": "code",
      "metadata": {
        "id": "8ddJEjOz-kW2",
        "colab_type": "code",
        "colab": {}
      },
      "source": [
        "reddit = praw.Reddit(client_id='J9fpBzqFYjxrhA', \\\n",
        "                     client_secret='am87EA-SZB0LSDvh5zq6t_ho6wo', \\\n",
        "                     user_agent='Moodimedia', \\\n",
        "                     username='MarioLovesBDSM', \\\n",
        "                     password='lasvegas')"
      ],
      "execution_count": null,
      "outputs": []
    },
    {
      "cell_type": "code",
      "metadata": {
        "id": "fjlcBAZ4qqYY",
        "colab_type": "code",
        "colab": {
          "base_uri": "https://localhost:8080/",
          "height": 1000
        },
        "outputId": "ac5c8cec-6918-4221-c63e-1b8861dc24ff"
      },
      "source": [
        "help(reddit.subreddit('television').top(limit=500))"
      ],
      "execution_count": null,
      "outputs": [
        {
          "output_type": "stream",
          "text": [
            "Help on ListingGenerator in module praw.models.listing.generator object:\n",
            "\n",
            "class ListingGenerator(praw.models.base.PRAWBase)\n",
            " |  Instances of this class generate :class:`.RedditBase` instances.\n",
            " |  \n",
            " |  .. warning:: This class should not be directly utilized. Instead you will\n",
            " |     find a number of methods that return instances of the class:\n",
            " |  \n",
            " |     http://praw.readthedocs.io/en/latest/search.html?q=ListingGenerator\n",
            " |  \n",
            " |  Method resolution order:\n",
            " |      ListingGenerator\n",
            " |      praw.models.base.PRAWBase\n",
            " |      builtins.object\n",
            " |  \n",
            " |  Methods defined here:\n",
            " |  \n",
            " |  __init__(self, reddit:~Reddit, url:str, limit:int=100, params:Union[Dict[str, str], NoneType]=None)\n",
            " |      Initialize a ListingGenerator instance.\n",
            " |      \n",
            " |      :param reddit: An instance of :class:`.Reddit`.\n",
            " |      :param url: A URL returning a reddit listing.\n",
            " |      :param limit: The number of content entries to fetch. If ``limit`` is\n",
            " |          None, then fetch as many entries as possible. Most of reddit's\n",
            " |          listings contain a maximum of 1000 items, and are returned 100 at a\n",
            " |          time. This class will automatically issue all necessary\n",
            " |          requests (default: 100).\n",
            " |      :param params: A dictionary containing additional query string\n",
            " |          parameters to send with the request.\n",
            " |  \n",
            " |  __iter__(self) -> Iterator[Any]\n",
            " |      Permit ListingGenerator to operate as an iterator.\n",
            " |  \n",
            " |  __next__(self) -> Any\n",
            " |      Permit ListingGenerator to operate as a generator.\n",
            " |  \n",
            " |  ----------------------------------------------------------------------\n",
            " |  Class methods inherited from praw.models.base.PRAWBase:\n",
            " |  \n",
            " |  parse(data:Dict[str, Any], reddit:~Reddit) -> Any from builtins.type\n",
            " |      Return an instance of ``cls`` from ``data``.\n",
            " |      \n",
            " |      :param data: The structured data.\n",
            " |      :param reddit: An instance of :class:`.Reddit`.\n",
            " |  \n",
            " |  ----------------------------------------------------------------------\n",
            " |  Data descriptors inherited from praw.models.base.PRAWBase:\n",
            " |  \n",
            " |  __dict__\n",
            " |      dictionary for instance variables (if defined)\n",
            " |  \n",
            " |  __weakref__\n",
            " |      list of weak references to the object (if defined)\n",
            "\n"
          ],
          "name": "stdout"
        }
      ]
    },
    {
      "cell_type": "code",
      "metadata": {
        "id": "ved-q8I8_S30",
        "colab_type": "code",
        "colab": {}
      },
      "source": [
        "LIMIT = 1000\n",
        "\n",
        "\n",
        "movies = reddit.subreddit('movies').hot(limit=LIMIT)\n",
        "television = reddit.subreddit('television').hot(limit=LIMIT)\n",
        "gaming = reddit.subreddit('gaming').hot(limit=LIMIT)\n",
        "cars = reddit.subreddit('cars').hot(limit=LIMIT)\n",
        "diy = reddit.subreddit('diy').hot(limit=LIMIT)\n",
        "cars = reddit.subreddit('offmychest').hot(limit=LIMIT)\n",
        "advice = reddit.subreddit('advice').hot(limit=LIMIT)\n",
        "politics = reddit.subreddit('politics').hot(limit=LIMIT)\n",
        "offmychest = reddit.subreddit('offmychest').hot(limit=LIMIT)\n",
        "paranormal = reddit.subreddit('nosleep').hot(limit=LIMIT)\n",
        "science = reddit.subreddit('science').hot(limit=LIMIT)\n",
        "anime = reddit.subreddit('anime').hot(limit=LIMIT)\n",
        "tech = reddit.subreddit('technology').hot(limit=LIMIT)\n",
        "photography = reddit.subreddit('photography').hot(limit=LIMIT)\n",
        "manga = reddit.subreddit('manga').hot(limit=LIMIT)\n",
        "music = reddit.subreddit('music').hot(limit=LIMIT)\n",
        "books = reddit.subreddit('books').hot(limit=LIMIT)\n",
        "general = reddit.subreddit('all').hot(limit=LIMIT)"
      ],
      "execution_count": null,
      "outputs": []
    },
    {
      "cell_type": "code",
      "metadata": {
        "id": "iFchtZzyGXVq",
        "colab_type": "code",
        "colab": {
          "base_uri": "https://localhost:8080/",
          "height": 129
        },
        "outputId": "3504ca6b-a217-490f-a609-c3611eb99d37"
      },
      "source": [
        "from google.colab import drive\n",
        "drive.mount('/content/drive')"
      ],
      "execution_count": null,
      "outputs": [
        {
          "output_type": "stream",
          "text": [
            "Go to this URL in a browser: https://accounts.google.com/o/oauth2/auth?client_id=947318989803-6bn6qk8qdgf4n4g3pfee6491hc0brc4i.apps.googleusercontent.com&redirect_uri=urn%3aietf%3awg%3aoauth%3a2.0%3aoob&response_type=code&scope=email%20https%3a%2f%2fwww.googleapis.com%2fauth%2fdocs.test%20https%3a%2f%2fwww.googleapis.com%2fauth%2fdrive%20https%3a%2f%2fwww.googleapis.com%2fauth%2fdrive.photos.readonly%20https%3a%2f%2fwww.googleapis.com%2fauth%2fpeopleapi.readonly\n",
            "\n",
            "Enter your authorization code:\n",
            "··········\n",
            "Mounted at /content/drive\n"
          ],
          "name": "stdout"
        }
      ]
    },
    {
      "cell_type": "code",
      "metadata": {
        "id": "eRGV8ZpaAzB2",
        "colab_type": "code",
        "colab": {
          "base_uri": "https://localhost:8080/",
          "height": 368
        },
        "outputId": "147c78de-83c8-4e0e-bbb4-ffbd326836a1"
      },
      "source": [
        "for submission in television.top(limit=10):\n",
        "  print(f\"{submission.title} : {submission.selftext}\")"
      ],
      "execution_count": null,
      "outputs": [
        {
          "output_type": "stream",
          "text": [
            "Sinclair's script for the local news stations that they own : \n",
            "\"Epstein didn't kill himself,\" former Navy SEAL blurts out on Fox News while taking about military dogs : \n",
            "Netflix has finally added an option to disable autoplay while browsing. : \n",
            "I built a Netflix search site that makes it easier to browse what's available on Netflix and to see what's new and what's leaving : \n",
            "Terry Crews Sues WME Agent Adam Venit for Sexual Assault : \n",
            "Why Hollywood's Abandonment Of Terry Crews Is Unacceptable : \n",
            "Aziz Ansari Is Guilty. Of Not Being a Mind Reader. : \n",
            "BBC To Show Donald Trump Impeachment Hearings In Full : \n",
            "I think I'm done with Bill Nye. His new show sucks. : I am about halfway through Bill Nye Saves the World, and I am completely disappointed. I've been a huge fan of Bill Bye since I was ten. Bill Nye the Science Guy was entertaining and educational. Bill Nye Saves the World is neither. In this show he simply brings up an issue, tells you which side you should be on, and then makes fun of people on the other side. To make things worse he does this in the most boring way possible in front of crowd that honestly seems retarded. He doesn't properly explain anything, and he misrepresents every opposing view.\n",
            "\n",
            "I just finished watching the fad diet episode. He presents Paleo as \"only eating meat\" which is not even close to what Paleo is. Paleo is about eating nutrient rich food, and avoiding processed food, grains and sugar. It is protein heavy, but is definitely not all protein. He laughs that cavemen died young, but forgets to mention that they had very low markers of cardiovascular disease.\n",
            "\n",
            "In the first episode he shuts down nuclear power simply because \"nobody wants it.\" Really? That's his go to argument? There was no discussion about handling nuclear waste, or the nuclear disaster in Japan. A panelist states that the main problem with nuclear energy is the long time it takes to build a nuclear plant (because of all the red tape). So we have a major issue (climate change caused by burning hydrocarbons), and a potential solution (nuclear energy), but we are going to dismiss it because people don't want it and because of the policies in place by our government. Meanwhile, any problems with clean energy are simply challenges that need to be addressed, and we need to change policy to help support clean energy and we need to change public opinion on it.\n",
            "\n",
            "In the alternative medicine episode he dismisses a vinegar based alternative medicine because it doesn't reduce the acidity level of a solution. He dismiss the fact that vinegar has been used to treat upset stomach for a long time. How does vinegar treat an upset stomach? Does it actually work, or is it a placebo affect? Does it work in some cases, and not in others? If it does anything, does it just treat a symptom, or does it fix the root cause? I don't know the answer to any of these questions because he just dismissed it as wrong and only showed me that it doesn't change the pH level of an acidic solution. Also, there are many foods that are believed to help prevent diseases like fish (for heart health), high fiber breads (for colon cancer), and citrus fruits (for scurvy). A healthy diet and exercise will help prevent cardiovascular disease, and will help reduce your blood pressure among other benefits. So obviously there is some reasoning behind some alternative medicine and practices and to dismiss it all as a whole is stupid.\n",
            "\n",
            "I just don't see the point of this show. It's just a big circle jerk. It's not going to convince anyone that they're wrong, and it's definitely not going to entertain anyone. It's basically just a very poor copy of Penn and Teller's BS! show, just with all intelligent thought removed.\n",
            "Bill Nye's new show on Netflix in 2017 - \"Each episode will tackle a topic from a scientific point of view, dispelling myths, and refuting anti-scientific claims that may be espoused by politicians, religious leaders or titans of industry\" : \n"
          ],
          "name": "stdout"
        }
      ]
    },
    {
      "cell_type": "code",
      "metadata": {
        "id": "732cu-7PHWxF",
        "colab_type": "code",
        "colab": {}
      },
      "source": [
        "movies_dict = {\"title\": [], \"body\": []}\n",
        "television_dict = {\"title\": [], \"body\": []}\n",
        "gaming_dict = {\"title\": [], \"body\": []}\n",
        "cars_dict = {\"title\": [], \"body\": []}\n",
        "diy_dict = {\"title\": [], \"body\": []}\n",
        "cars_dict = {\"title\": [], \"body\": []}\n",
        "advice_dict = {\"title\": [], \"body\": []}\n",
        "politics_dict = {\"title\": [], \"body\": []}\n",
        "offmychest_dict = {\"title\": [], \"body\": []}\n",
        "paranormal_dict = {\"title\": [], \"body\": []}\n",
        "science_dict = {\"title\": [], \"body\": []}\n",
        "anime_dict = {\"title\": [], \"body\": []}\n",
        "tech_dict = {\"title\": [], \"body\": []}\n",
        "photography_dict = {\"title\": [], \"body\": []}\n",
        "manga_dict = {\"title\": [], \"body\": []}\n",
        "music_dict = {\"title\": [], \"body\": []}\n",
        "books_dict = {\"title\": [], \"body\": []}\n",
        "general_dict ={\"title\": [], \"body\": []}"
      ],
      "execution_count": null,
      "outputs": []
    },
    {
      "cell_type": "code",
      "metadata": {
        "id": "V-9xNGeIMpYF",
        "colab_type": "code",
        "colab": {}
      },
      "source": [
        ""
      ],
      "execution_count": null,
      "outputs": []
    },
    {
      "cell_type": "code",
      "metadata": {
        "id": "gkSQBkL17dCc",
        "colab_type": "code",
        "colab": {
          "base_uri": "https://localhost:8080/",
          "height": 35
        },
        "outputId": "abbe948f-1a2c-4b5e-da18-c4b5bafc0a31"
      },
      "source": [
        "\n",
        "television_dict[\"title\"][10]"
      ],
      "execution_count": null,
      "outputs": [
        {
          "output_type": "execute_result",
          "data": {
            "text/plain": [
              "\"Netflix's 'The Witcher' is one of the biggest shows in the US despite poor reviews from critics\""
            ]
          },
          "metadata": {
            "tags": []
          },
          "execution_count": 22
        }
      ]
    },
    {
      "cell_type": "code",
      "metadata": {
        "id": "2UkgDTOi7nnb",
        "colab_type": "code",
        "colab": {}
      },
      "source": [
        "for submission in movies:\n",
        "  movies_dict[\"title\"].append(submission.title)\n",
        "  movies_dict[\"body\"].append(submission.selftext)\n",
        "\n",
        "for submission in television:\n",
        "  television_dict[\"title\"].append(submission.title)\n",
        "  television_dict[\"body\"].append(submission.selftext)\n",
        "\n",
        "for submission in gaming:\n",
        "  gaming_dict[\"title\"].append(submission.title)\n",
        "  gaming_dict[\"body\"].append(submission.selftext)\n",
        "\n",
        "for submission in cars:\n",
        "  cars_dict[\"title\"].append(submission.title)\n",
        "  cars_dict[\"body\"].append(submission.selftext)\n",
        "\n",
        "for submission in diy:\n",
        "  diy_dict[\"title\"].append(submission.title)\n",
        "  diy_dict[\"body\"].append(submission.selftext)\n",
        "\n",
        "for submission in advice:\n",
        "  advice_dict[\"title\"].append(submission.title)\n",
        "  advice_dict[\"body\"].append(submission.selftext)\n",
        "\n",
        "for submission in politics:\n",
        "  politics_dict[\"title\"].append(submission.title)\n",
        "  politics_dict[\"body\"].append(submission.selftext)\n",
        "\n",
        "for submission in offmychest:\n",
        "  offmychest_dict[\"title\"].append(submission.title)\n",
        "  offmychest_dict[\"body\"].append(submission.selftext)\n",
        "\n",
        "for submission in paranormal:\n",
        "  paranormal_dict[\"title\"].append(submission.title)\n",
        "  paranormal_dict[\"body\"].append(submission.selftext)\n",
        "\n",
        "for submission in science:\n",
        "  science_dict[\"title\"].append(submission.title)\n",
        "  science_dict[\"body\"].append(submission.selftext)\n",
        "\n",
        "for submission in anime:\n",
        "  anime_dict[\"title\"].append(submission.title)\n",
        "  anime_dict[\"body\"].append(submission.selftext)\n",
        "\n",
        "for submission in tech:\n",
        "  tech_dict[\"title\"].append(submission.title)\n",
        "  tech_dict[\"body\"].append(submission.selftext)\n",
        "\n",
        "for submission in photography:\n",
        "  photography_dict[\"title\"].append(submission.title)\n",
        "  photography_dict[\"body\"].append(submission.selftext)\n",
        "\n",
        "for submission in manga:\n",
        "  manga_dict[\"title\"].append(submission.title)\n",
        "  manga_dict[\"body\"].append(submission.selftext)\n",
        "\n",
        "for submission in music:\n",
        "  music_dict[\"title\"].append(submission.title)\n",
        "  music_dict[\"body\"].append(submission.selftext)\n",
        "\n",
        "for submission in books:\n",
        "  books_dict[\"title\"].append(submission.title)\n",
        "  books_dict[\"body\"].append(submission.selftext)\n",
        "\n",
        "for submission in general:\n",
        "  general_dict[\"title\"].append(submission.title)\n",
        "  general_dict[\"body\"].append(submission.selftext)"
      ],
      "execution_count": null,
      "outputs": []
    },
    {
      "cell_type": "code",
      "metadata": {
        "id": "VJQIEmJA-53s",
        "colab_type": "code",
        "colab": {
          "base_uri": "https://localhost:8080/",
          "height": 54
        },
        "outputId": "6d4e8361-4ebd-4278-bf8f-b49f19941670"
      },
      "source": [
        "for submission in science:\n",
        "  print(submission)\n",
        "     \n",
        "  "
      ],
      "execution_count": null,
      "outputs": [
        {
          "output_type": "stream",
          "text": [
            "title\n",
            "body\n"
          ],
          "name": "stdout"
        }
      ]
    },
    {
      "cell_type": "code",
      "metadata": {
        "id": "LI04PMmSCsjL",
        "colab_type": "code",
        "colab": {}
      },
      "source": [
        "for submission in television:\n",
        "  print(type(submission))\n",
        "  "
      ],
      "execution_count": null,
      "outputs": []
    },
    {
      "cell_type": "code",
      "metadata": {
        "id": "izxkfyW5CzXa",
        "colab_type": "code",
        "colab": {}
      },
      "source": [
        "television_label = []\n",
        "gaming_label = []\n",
        "cars_label= []\n",
        "diy_label = []\n",
        "advice_label = []\n",
        "politics_label = []\n",
        "offmychest_label = []\n",
        "paranormal_label = []\n",
        "science_label = []\n",
        "anime_label = []\n",
        "tech_label = []\n",
        "photography_label = []\n",
        "manga_label = []\n",
        "music_label = []\n",
        "books_label = []\n",
        "general_label = []\n",
        "for i in range(600):\n",
        "  television_label.append('television')\n",
        "  gaming_label.append('gaming')\n",
        "  cars_label.append('cars')\n",
        "  diy_label.append('diy')\n",
        "  advice_label.append('advice')\n",
        "  politics_label.append('politics')\n",
        "  offmychest_label.append('offmychest')\n",
        "  paranormal_label.append('paranormal')\n",
        "  science_label.append('science')\n",
        "  anime_label.append('anime')\n",
        "  tech_label.append('tech')\n",
        "  photography_label.append('photography')\n",
        "  manga_label.append('manga')\n",
        "  music_label.append('music')\n",
        "  books_label.append('books')\n",
        "  general_label.append('general')"
      ],
      "execution_count": null,
      "outputs": []
    },
    {
      "cell_type": "code",
      "metadata": {
        "id": "RoZFIaLhL4sc",
        "colab_type": "code",
        "colab": {
          "base_uri": "https://localhost:8080/",
          "height": 35
        },
        "outputId": "3870d4d5-942c-4a66-dad1-9cd7fb6127fd"
      },
      "source": [
        "len(television_label)"
      ],
      "execution_count": null,
      "outputs": [
        {
          "output_type": "execute_result",
          "data": {
            "text/plain": [
              "10000"
            ]
          },
          "metadata": {
            "tags": []
          },
          "execution_count": 50
        }
      ]
    },
    {
      "cell_type": "code",
      "metadata": {
        "id": "OKRAD7aVL-9Z",
        "colab_type": "code",
        "colab": {}
      },
      "source": [
        "TITLES = []\n",
        "\n",
        "TITLES.extend(television_dict[\"title\"])\n",
        "TITLES.extend(gaming_dict[\"title\"])\n",
        "TITLES.extend(cars_dict[\"title\"])\n",
        "TITLES.extend(diy_dict[\"title\"])\n",
        "TITLES.extend(advice_dict[\"title\"])\n",
        "TITLES.extend(politics_dict[\"title\"])\n",
        "TITLES.extend(offmychest_dict[\"title\"])\n",
        "TITLES.extend(paranormal_dict[\"title\"])\n",
        "TITLES.extend(science_dict[\"title\"])\n",
        "TITLES.extend(anime_dict[\"title\"])\n",
        "TITLES.extend(tech_dict[\"title\"])\n",
        "TITLES.extend(photography_dict[\"title\"])\n",
        "TITLES.extend(manga_dict[\"title\"])\n",
        "TITLES.extend(music_dict[\"title\"])\n",
        "TITLES.extend(books_dict[\"title\"])\n",
        "TITLES.extend(general_dict[\"title\"])"
      ],
      "execution_count": null,
      "outputs": []
    },
    {
      "cell_type": "code",
      "metadata": {
        "id": "zTyZ3pjZNNn3",
        "colab_type": "code",
        "colab": {
          "base_uri": "https://localhost:8080/",
          "height": 35
        },
        "outputId": "cd55bddf-ef4b-4fdf-eefb-17e457385f93"
      },
      "source": [
        "len(TITLES)"
      ],
      "execution_count": null,
      "outputs": [
        {
          "output_type": "execute_result",
          "data": {
            "text/plain": [
              "4185"
            ]
          },
          "metadata": {
            "tags": []
          },
          "execution_count": 17
        }
      ]
    },
    {
      "cell_type": "code",
      "metadata": {
        "id": "KDdYz8RaNXOX",
        "colab_type": "code",
        "colab": {
          "base_uri": "https://localhost:8080/",
          "height": 35
        },
        "outputId": "22b68184-e184-4f52-e436-e43291b5f841"
      },
      "source": [
        "len(anime_dict[\"title\"])"
      ],
      "execution_count": null,
      "outputs": [
        {
          "output_type": "execute_result",
          "data": {
            "text/plain": [
              "101"
            ]
          },
          "metadata": {
            "tags": []
          },
          "execution_count": 68
        }
      ]
    },
    {
      "cell_type": "code",
      "metadata": {
        "id": "EetJdDICNieY",
        "colab_type": "code",
        "colab": {
          "base_uri": "https://localhost:8080/",
          "height": 35
        },
        "outputId": "525aa2e1-3599-403c-8f86-f970ac3a5dbc"
      },
      "source": [
        "television = reddit.subreddit('television').hot(limit=5000)\n",
        "\n",
        "title = []\n",
        "\n",
        "for tv in television:\n",
        "  title.append(tv.title)\n",
        "\n",
        "len(title)"
      ],
      "execution_count": null,
      "outputs": [
        {
          "output_type": "execute_result",
          "data": {
            "text/plain": [
              "652"
            ]
          },
          "metadata": {
            "tags": []
          },
          "execution_count": 70
        }
      ]
    },
    {
      "cell_type": "code",
      "metadata": {
        "id": "5_GAZimbONWI",
        "colab_type": "code",
        "colab": {
          "base_uri": "https://localhost:8080/",
          "height": 311
        },
        "outputId": "0f4415bd-04f8-47bc-f965-58d6b506c017"
      },
      "source": [
        "print(len((television_dict[\"title\"])))\n",
        "print(len((gaming_dict[\"title\"])))\n",
        "print(len((cars_dict[\"title\"])))\n",
        "print(len((diy_dict[\"title\"])))\n",
        "print(len((advice_dict[\"title\"])))\n",
        "print(len((politics_dict[\"title\"])))\n",
        "print(len((offmychest_dict[\"title\"])))\n",
        "print(len((paranormal_dict[\"title\"])))\n",
        "print(len((science_dict[\"title\"])))\n",
        "print(len((anime_dict[\"title\"])))\n",
        "print(len((tech_dict[\"title\"])))\n",
        "print(len((photography_dict[\"title\"])))\n",
        "print(len((manga_dict[\"title\"])))\n",
        "print(len((music_dict[\"title\"])))\n",
        "print(len((books_dict[\"title\"])))\n",
        "print(len((general_dict[\"title\"])))"
      ],
      "execution_count": null,
      "outputs": [
        {
          "output_type": "stream",
          "text": [
            "166\n",
            "172\n",
            "600\n",
            "228\n",
            "547\n",
            "2\n",
            "600\n",
            "598\n",
            "1\n",
            "455\n",
            "5\n",
            "106\n",
            "182\n",
            "108\n",
            "392\n",
            "23\n"
          ],
          "name": "stdout"
        }
      ]
    },
    {
      "cell_type": "code",
      "metadata": {
        "id": "hkE7hrDQOuKy",
        "colab_type": "code",
        "colab": {}
      },
      "source": [
        "LIMIT = 1000\n",
        "\n",
        "\n",
        "television_top = reddit.subreddit('television').top(limit=LIMIT)\n",
        "gaming_top = reddit.subreddit('gaming').top(limit=LIMIT)\n",
        "cars_top = reddit.subreddit('cars').top(limit=LIMIT)\n",
        "diy_top = reddit.subreddit('diy').top(limit=LIMIT)\n",
        "cars_top = reddit.subreddit('offmychest').top(limit=LIMIT)\n",
        "advice_top = reddit.subreddit('advice').top(limit=LIMIT)\n",
        "politics_top = reddit.subreddit('politics').top(limit=LIMIT)\n",
        "offmychest_top = reddit.subreddit('offmychest').top(limit=LIMIT)\n",
        "paranormal_top = reddit.subreddit('nosleep').top(limit=LIMIT)\n",
        "science_top = reddit.subreddit('science').top(limit=LIMIT)\n",
        "anime_top = reddit.subreddit('anime').top(limit=LIMIT)\n",
        "tech_top = reddit.subreddit('technology').top(limit=LIMIT)\n",
        "photography_top = reddit.subreddit('photography').top(limit=LIMIT)\n",
        "manga_top = reddit.subreddit('manga').top(limit=LIMIT)\n",
        "music_top = reddit.subreddit('music').top(limit=LIMIT)\n",
        "books_top = reddit.subreddit('books').top(limit=LIMIT)\n",
        "general_top = reddit.subreddit('all').top(limit=LIMIT)"
      ],
      "execution_count": null,
      "outputs": []
    },
    {
      "cell_type": "code",
      "metadata": {
        "id": "tsR99METPpxc",
        "colab_type": "code",
        "colab": {}
      },
      "source": [
        "television_dict_top = {\"title\": [], \"body\": []}\n",
        "gaming_dict_top = {\"title\": [], \"body\": []}\n",
        "cars_dict_top = {\"title\": [], \"body\": []}\n",
        "diy_dict_top = {\"title\": [], \"body\": []}\n",
        "cars_dict_top = {\"title\": [], \"body\": []}\n",
        "advice_dict_top = {\"title\": [], \"body\": []}\n",
        "politics_dict_top = {\"title\": [], \"body\": []}\n",
        "offmychest_dict_top = {\"title\": [], \"body\": []}\n",
        "paranormal_dict_top = {\"title\": [], \"body\": []}\n",
        "science_dict_top = {\"title\": [], \"body\": []}\n",
        "anime_dict_top = {\"title\": [], \"body\": []}\n",
        "tech_dict_top = {\"title\": [], \"body\": []}\n",
        "photography_dict_top = {\"title\": [], \"body\": []}\n",
        "manga_dict_top = {\"title\": [], \"body\": []}\n",
        "music_dict_top = {\"title\": [], \"body\": []}\n",
        "books_dict_top = {\"title\": [], \"body\": []}\n",
        "general_dict_top ={\"title\": [], \"body\": []}"
      ],
      "execution_count": null,
      "outputs": []
    },
    {
      "cell_type": "code",
      "metadata": {
        "id": "3NNpHc6jQHCN",
        "colab_type": "code",
        "colab": {}
      },
      "source": [
        "for submission in television_top:\n",
        "  television_dict_top[\"title\"].append(submission.title)\n",
        "  television_dict_top[\"body\"].append(submission.selftext)\n",
        "\n",
        "for submission in gaming_top:\n",
        "  gaming_dict_top[\"title\"].append(submission.title)\n",
        "  gaming_dict_top[\"body\"].append(submission.selftext)\n",
        "\n",
        "for submission in cars_top:\n",
        "  cars_dict_top[\"title\"].append(submission.title)\n",
        "  cars_dict_top[\"body\"].append(submission.selftext)\n",
        "\n",
        "for submission in diy_top:\n",
        "  diy_dict_top[\"title\"].append(submission.title)\n",
        "  diy_dict_top[\"body\"].append(submission.selftext)\n",
        "\n",
        "for submission in advice_top:\n",
        "  advice_dict_top[\"title\"].append(submission.title)\n",
        "  advice_dict_top[\"body\"].append(submission.selftext)\n",
        "\n",
        "for submission in politics_top:\n",
        "  politics_dict_top[\"title\"].append(submission.title)\n",
        "  politics_dict_top[\"body\"].append(submission.selftext)\n",
        "\n",
        "for submission in offmychest_top:\n",
        "  offmychest_dict_top[\"title\"].append(submission.title)\n",
        "  offmychest_dict_top[\"body\"].append(submission.selftext)\n",
        "\n",
        "for submission in paranormal_top:\n",
        "  paranormal_dict_top[\"title\"].append(submission.title)\n",
        "  paranormal_dict_top[\"body\"].append(submission.selftext)\n",
        "\n",
        "for submission in science_top:\n",
        "  science_dict_top[\"title\"].append(submission.title)\n",
        "  science_dict_top[\"body\"].append(submission.selftext)\n",
        "\n",
        "for submission in anime_top:\n",
        "  anime_dict_top[\"title\"].append(submission.title)\n",
        "  anime_dict_top[\"body\"].append(submission.selftext)\n",
        "\n",
        "for submission in tech_top:\n",
        "  tech_dict_top[\"title\"].append(submission.title)\n",
        "  tech_dict_top[\"body\"].append(submission.selftext)\n",
        "\n",
        "for submission in photography_top:\n",
        "  photography_dict_top[\"title\"].append(submission.title)\n",
        "  photography_dict_top[\"body\"].append(submission.selftext)\n",
        "\n",
        "for submission in manga_top:\n",
        "  manga_dict_top[\"title\"].append(submission.title)\n",
        "  manga_dict_top[\"body\"].append(submission.selftext)\n",
        "\n",
        "for submission in music_top:\n",
        "  music_dict_top[\"title\"].append(submission.title)\n",
        "  music_dict_top[\"body\"].append(submission.selftext)\n",
        "\n",
        "for submission in books_top:\n",
        "  books_dict_top[\"title\"].append(submission.title)\n",
        "  books_dict_top[\"body\"].append(submission.selftext)\n",
        "\n",
        "for submission in general_top:\n",
        "  general_dict_top[\"title\"].append(submission.title)\n",
        "  general_dict_top[\"body\"].append(submission.selftext)"
      ],
      "execution_count": null,
      "outputs": []
    },
    {
      "cell_type": "code",
      "metadata": {
        "id": "G8200xESRAkd",
        "colab_type": "code",
        "colab": {}
      },
      "source": [
        ""
      ],
      "execution_count": null,
      "outputs": []
    },
    {
      "cell_type": "code",
      "metadata": {
        "id": "4zVHjE7nWO0x",
        "colab_type": "code",
        "colab": {}
      },
      "source": [
        ""
      ],
      "execution_count": null,
      "outputs": []
    },
    {
      "cell_type": "code",
      "metadata": {
        "id": "mu1as5-3Weds",
        "colab_type": "code",
        "colab": {}
      },
      "source": [
        "photography_top = reddit.subreddit('photography').top(limit=LIMIT)\n"
      ],
      "execution_count": null,
      "outputs": []
    },
    {
      "cell_type": "code",
      "metadata": {
        "id": "F5TFJ8KpXBcc",
        "colab_type": "code",
        "colab": {
          "base_uri": "https://localhost:8080/",
          "height": 605
        },
        "outputId": "1b151b08-9897-46ff-a716-239acf07eb33"
      },
      "source": [
        "THE_TITLES = []\n",
        "\n",
        "print((len(television_dict[\"title\"])))\n",
        "print((len(gaming_dict[\"title\"])))\n",
        "print((len(cars_dict[\"title\"])))\n",
        "print((len(diy_dict[\"title\"])))\n",
        "print((len(advice_dict[\"title\"])))\n",
        "print((len(politics_dict[\"title\"])))\n",
        "print((len(offmychest_dict[\"title\"])))\n",
        "print((len(paranormal_dict[\"title\"])))\n",
        "print((len(science_dict[\"title\"])))\n",
        "print((len(anime_dict[\"title\"])))\n",
        "print((len(tech_dict[\"title\"])))\n",
        "print((len(photography_dict[\"title\"])))\n",
        "print((len(manga_dict[\"title\"])))\n",
        "print((len(music_dict[\"title\"])))\n",
        "print((len(books_dict[\"title\"])))\n",
        "print((len(general_dict[\"title\"])))\n",
        "THE_TITLES = []\n",
        "\n",
        "print((len(television_dict_top[\"title\"])))\n",
        "print((len(gaming_dict_top[\"title\"])))\n",
        "print((len(cars_dict_top[\"title\"])))\n",
        "print((len(diy_dict_top[\"title\"])))\n",
        "print((len(advice_dict_top[\"title\"])))\n",
        "print((len(politics_dict_top[\"title\"])))\n",
        "print((len(offmychest_dict_top[\"title\"])))\n",
        "print((len(paranormal_dict_top[\"title\"])))\n",
        "print((len(science_dict_top[\"title\"])))\n",
        "print((len(anime_dict_top[\"title\"])))\n",
        "print((len(tech_dict_top[\"title\"])))\n",
        "print((len(photography_dict_top[\"title\"])))\n",
        "print((len(manga_dict_top[\"title\"])))\n",
        "print((len(music_dict_top[\"title\"])))\n",
        "print((len(books_dict_top[\"title\"])))\n",
        "print((len(general_dict_top[\"title\"])))"
      ],
      "execution_count": null,
      "outputs": [
        {
          "output_type": "stream",
          "text": [
            "652\n",
            "555\n",
            "939\n",
            "317\n",
            "939\n",
            "800\n",
            "940\n",
            "721\n",
            "682\n",
            "816\n",
            "351\n",
            "173\n",
            "975\n",
            "673\n",
            "478\n",
            "1000\n",
            "1000\n",
            "987\n",
            "991\n",
            "992\n",
            "979\n",
            "999\n",
            "991\n",
            "999\n",
            "991\n",
            "999\n",
            "995\n",
            "997\n",
            "994\n",
            "991\n",
            "993\n",
            "965\n"
          ],
          "name": "stdout"
        }
      ]
    },
    {
      "cell_type": "code",
      "metadata": {
        "id": "37KA8W-4XwJ9",
        "colab_type": "code",
        "colab": {}
      },
      "source": [
        "LIMIT = 1000\n",
        "\n",
        "\n",
        "television_new = reddit.subreddit('television').new(limit=LIMIT)\n",
        "gaming_new = reddit.subreddit('gaming').new(limit=LIMIT)\n",
        "cars_new = reddit.subreddit('cars').new(limit=LIMIT)\n",
        "diy_new = reddit.subreddit('diy').new(limit=LIMIT)\n",
        "cars_new = reddit.subreddit('offmychest').new(limit=LIMIT)\n",
        "advice_new = reddit.subreddit('advice').new(limit=LIMIT)\n",
        "politics_new = reddit.subreddit('politics').new(limit=LIMIT)\n",
        "offmychest_new = reddit.subreddit('offmychest').new(limit=LIMIT)\n",
        "paranormal_new = reddit.subreddit('nosleep').new(limit=LIMIT)\n",
        "science_new = reddit.subreddit('science').new(limit=LIMIT)\n",
        "anime_new = reddit.subreddit('anime').new(limit=LIMIT)\n",
        "tech_new = reddit.subreddit('technology').new(limit=LIMIT)\n",
        "photography_new = reddit.subreddit('photography').new(limit=LIMIT)\n",
        "manga_new = reddit.subreddit('manga').new(limit=LIMIT)\n",
        "music_new = reddit.subreddit('music').new(limit=LIMIT)\n",
        "books_new = reddit.subreddit('books').new(limit=LIMIT)\n",
        "general_new = reddit.subreddit('all').new(limit=LIMIT)"
      ],
      "execution_count": null,
      "outputs": []
    },
    {
      "cell_type": "code",
      "metadata": {
        "id": "eeTcFoK9iSq-",
        "colab_type": "code",
        "colab": {}
      },
      "source": [
        "television_dict_new = {\"title\": [], \"body\": []}\n",
        "gaming_dict_new = {\"title\": [], \"body\": []}\n",
        "cars_dict_new = {\"title\": [], \"body\": []}\n",
        "diy_dict_new = {\"title\": [], \"body\": []}\n",
        "cars_dict_new = {\"title\": [], \"body\": []}\n",
        "advice_dict_new = {\"title\": [], \"body\": []}\n",
        "politics_dict_new = {\"title\": [], \"body\": []}\n",
        "offmychest_dict_new = {\"title\": [], \"body\": []}\n",
        "paranormal_dict_new = {\"title\": [], \"body\": []}\n",
        "science_dict_new = {\"title\": [], \"body\": []}\n",
        "anime_dict_new = {\"title\": [], \"body\": []}\n",
        "tech_dict_new = {\"title\": [], \"body\": []}\n",
        "photography_dict_new = {\"title\": [], \"body\": []}\n",
        "manga_dict_new = {\"title\": [], \"body\": []}\n",
        "music_dict_new = {\"title\": [], \"body\": []}\n",
        "books_dict_new = {\"title\": [], \"body\": []}\n",
        "general_dict_new ={\"title\": [], \"body\": []}"
      ],
      "execution_count": null,
      "outputs": []
    },
    {
      "cell_type": "code",
      "metadata": {
        "id": "JO6d7GHDigpe",
        "colab_type": "code",
        "colab": {}
      },
      "source": [
        "for submission in television_new:\n",
        "  television_dict_new[\"title\"].append(submission.title)\n",
        "  television_dict_new[\"body\"].append(submission.selftext)\n",
        "\n",
        "for submission in gaming_new:\n",
        "  gaming_dict_new[\"title\"].append(submission.title)\n",
        "  gaming_dict_new[\"body\"].append(submission.selftext)\n",
        "\n",
        "for submission in cars_new:\n",
        "  cars_dict_new[\"title\"].append(submission.title)\n",
        "  cars_dict_new[\"body\"].append(submission.selftext)\n",
        "\n",
        "for submission in diy_new:\n",
        "  diy_dict_new[\"title\"].append(submission.title)\n",
        "  diy_dict_new[\"body\"].append(submission.selftext)\n",
        "\n",
        "for submission in advice_new:\n",
        "  advice_dict_new[\"title\"].append(submission.title)\n",
        "  advice_dict_new[\"body\"].append(submission.selftext)\n",
        "\n",
        "for submission in politics_new:\n",
        "  politics_dict_new[\"title\"].append(submission.title)\n",
        "  politics_dict_new[\"body\"].append(submission.selftext)\n",
        "\n",
        "for submission in offmychest_new:\n",
        "  offmychest_dict_new[\"title\"].append(submission.title)\n",
        "  offmychest_dict_new[\"body\"].append(submission.selftext)\n",
        "\n",
        "for submission in paranormal_new:\n",
        "  paranormal_dict_new[\"title\"].append(submission.title)\n",
        "  paranormal_dict_new[\"body\"].append(submission.selftext)\n",
        "\n",
        "for submission in science_new:\n",
        "  science_dict_new[\"title\"].append(submission.title)\n",
        "  science_dict_new[\"body\"].append(submission.selftext)\n",
        "\n",
        "for submission in anime_new:\n",
        "  anime_dict_new[\"title\"].append(submission.title)\n",
        "  anime_dict_new[\"body\"].append(submission.selftext)\n",
        "\n",
        "for submission in tech_new:\n",
        "  tech_dict_new[\"title\"].append(submission.title)\n",
        "  tech_dict_new[\"body\"].append(submission.selftext)\n",
        "\n",
        "for submission in photography_new:\n",
        "  photography_dict_new[\"title\"].append(submission.title)\n",
        "  photography_dict_new[\"body\"].append(submission.selftext)\n",
        "\n",
        "for submission in manga_new:\n",
        "  manga_dict_new[\"title\"].append(submission.title)\n",
        "  manga_dict_new[\"body\"].append(submission.selftext)\n",
        "\n",
        "for submission in music_new:\n",
        "  music_dict_new[\"title\"].append(submission.title)\n",
        "  music_dict_new[\"body\"].append(submission.selftext)\n",
        "\n",
        "for submission in books_new:\n",
        "  books_dict_new[\"title\"].append(submission.title)\n",
        "  books_dict_new[\"body\"].append(submission.selftext)\n",
        "\n",
        "for submission in general_new:\n",
        "  general_dict_new[\"title\"].append(submission.title)\n",
        "  general_dict_new[\"body\"].append(submission.selftext)"
      ],
      "execution_count": null,
      "outputs": []
    },
    {
      "cell_type": "code",
      "metadata": {
        "id": "GdjEMC04js8t",
        "colab_type": "code",
        "colab": {
          "base_uri": "https://localhost:8080/",
          "height": 311
        },
        "outputId": "6b5049ad-d24e-4ed0-aa10-a1602ffcee08"
      },
      "source": [
        "print((str(len(television_dict_new[\"title\"]))) + \" : \" + str((len(television_dict_new[\"body\"]))))\n",
        "print((str(len(gaming_dict_new[\"title\"])) + \" : \" + str((len(gaming_dict_new[\"body\"])))))\n",
        "print((str(len(cars_dict_new[\"title\"])) + \" : \" + str((len(cars_dict_new[\"body\"])))))\n",
        "print((str(len(diy_dict_new[\"title\"])) + \" : \" + str((len(diy_dict_new[\"body\"])))))\n",
        "print((str(len(advice_dict_new[\"title\"])) + \" : \" + str((len(advice_dict_new[\"body\"])))))\n",
        "print((str(len(politics_dict_new[\"title\"])) + \" : \" + str((len(politics_dict_new[\"body\"])))))\n",
        "print((str(len(offmychest_dict_new[\"title\"])) + \" : \" + str((len(offmychest_dict_new[\"body\"])))))\n",
        "print((str(len(paranormal_dict_new[\"title\"])) + \" : \" + str((len(paranormal_dict_new[\"body\"])))))\n",
        "print((str(len(science_dict_new[\"title\"])) + \" : \" + (str(len(science_dict_new[\"body\"])))))\n",
        "print((str(len(anime_dict_new[\"title\"]) )+ \" : \" + str((len(anime_dict_new[\"body\"])))))\n",
        "print((str(len(tech_dict_new[\"title\"])) + \" : \" + str((len(tech_dict_new[\"body\"])))))\n",
        "print((str(len(photography_dict_new[\"title\"])) + \" : \" + str((len(photography_dict_new[\"body\"])))))\n",
        "print((str(len(manga_dict_new[\"title\"])) + \" : \" + str((len(manga_dict_new[\"body\"])))))\n",
        "print((str(len(music_dict_new[\"title\"])) + \" : \" + str((len(music_dict_new[\"body\"])))))\n",
        "print((str(len(books_dict_new[\"title\"])) + \" : \" + str((len(books_dict_new[\"body\"])))))\n",
        "print((str(len(general_dict_new[\"title\"])) + \" : \" + str((len(general_dict_new[\"body\"])))))"
      ],
      "execution_count": null,
      "outputs": [
        {
          "output_type": "stream",
          "text": [
            "676 : 676\n",
            "644 : 644\n",
            "998 : 998\n",
            "957 : 957\n",
            "998 : 998\n",
            "984 : 984\n",
            "998 : 998\n",
            "999 : 999\n",
            "807 : 807\n",
            "979 : 979\n",
            "618 : 618\n",
            "748 : 748\n",
            "987 : 987\n",
            "662 : 662\n",
            "927 : 927\n",
            "585 : 585\n"
          ],
          "name": "stdout"
        }
      ]
    },
    {
      "cell_type": "code",
      "metadata": {
        "id": "R8jKlCV7mlPv",
        "colab_type": "code",
        "colab": {
          "base_uri": "https://localhost:8080/",
          "height": 311
        },
        "outputId": "b8a9611f-33ec-4f0d-f409-1379ca437d76"
      },
      "source": [
        "print((str(len(television_dict_top[\"title\"]))) + \" : \" + str((len(television_dict_top[\"body\"]))))\n",
        "print((str(len(gaming_dict_top[\"title\"])) + \" : \" + str((len(gaming_dict_top[\"body\"])))))\n",
        "print((str(len(cars_dict_top[\"title\"])) + \" : \" + str((len(cars_dict_top[\"body\"])))))\n",
        "print((str(len(diy_dict_top[\"title\"])) + \" : \" + str((len(diy_dict_top[\"body\"])))))\n",
        "print((str(len(advice_dict_top[\"title\"])) + \" : \" + str((len(advice_dict_top[\"body\"])))))\n",
        "print((str(len(politics_dict_top[\"title\"])) + \" : \" + str((len(politics_dict_top[\"body\"])))))\n",
        "print((str(len(offmychest_dict_top[\"title\"])) + \" : \" + str((len(offmychest_dict_top[\"body\"])))))\n",
        "print((str(len(paranormal_dict_top[\"title\"])) + \" : \" + str((len(paranormal_dict_top[\"body\"])))))\n",
        "print((str(len(science_dict_top[\"title\"])) + \" : \" + (str(len(science_dict_top[\"body\"])))))\n",
        "print((str(len(anime_dict_top[\"title\"]) )+ \" : \" + str((len(anime_dict_top[\"body\"])))))\n",
        "print((str(len(tech_dict_top[\"title\"])) + \" : \" + str((len(tech_dict_top[\"body\"])))))\n",
        "print((str(len(photography_dict_top[\"title\"])) + \" : \" + str((len(photography_dict_top[\"body\"])))))\n",
        "print((str(len(manga_dict_top[\"title\"])) + \" : \" + str((len(manga_dict_top[\"body\"])))))\n",
        "print((str(len(music_dict_top[\"title\"])) + \" : \" + str((len(music_dict_top[\"body\"])))))\n",
        "print((str(len(books_dict_top[\"title\"])) + \" : \" + str((len(books_dict_top[\"body\"])))))\n",
        "print((str(len(general_dict_top[\"title\"])) + \" : \" + str((len(general_dict_top[\"body\"])))))"
      ],
      "execution_count": null,
      "outputs": [
        {
          "output_type": "stream",
          "text": [
            "1000 : 1000\n",
            "987 : 987\n",
            "991 : 991\n",
            "992 : 992\n",
            "979 : 979\n",
            "999 : 999\n",
            "991 : 991\n",
            "999 : 999\n",
            "991 : 991\n",
            "999 : 999\n",
            "995 : 995\n",
            "997 : 997\n",
            "994 : 994\n",
            "991 : 991\n",
            "993 : 993\n",
            "965 : 965\n"
          ],
          "name": "stdout"
        }
      ]
    },
    {
      "cell_type": "code",
      "metadata": {
        "id": "SCAiNqz2nz_Z",
        "colab_type": "code",
        "colab": {}
      },
      "source": [
        "SUM_TITLE_TELEVISION = television_dict[\"title\"] + television_dict_new[\"title\"] + television_dict_top[\"title\"]\n",
        "SUM_BODY_TELEVISION = television_dict[\"body\"] + television_dict_new[\"body\"] + television_dict_top[\"body\"]\n",
        "\n",
        "SUM_TITLE_GAMING = gaming_dict[\"title\"] + gaming_dict_new[\"title\"] + gaming_dict_top[\"title\"]\n",
        "SUM_BODY_GAMING = gaming_dict[\"body\"] + gaming_dict_new[\"body\"] + gaming_dict_top[\"body\"]\n",
        "\n",
        "SUM_TITLE_CARS = cars_dict[\"title\"] + cars_dict_new[\"title\"] + cars_dict_top[\"title\"]\n",
        "SUM_BODY_CARS = cars_dict[\"body\"] + cars_dict_new[\"body\"] + cars_dict_top[\"body\"]\n",
        "\n",
        "SUM_TITLE_DIY = diy_dict[\"title\"] + diy_dict_new[\"title\"] + diy_dict_top[\"title\"]\n",
        "SUM_BODY_DIY = diy_dict[\"body\"] + diy_dict_new[\"body\"] + diy_dict_top[\"body\"]\n",
        "\n",
        "SUM_TITLE_ADVICE = advice_dict[\"title\"] + advice_dict_new[\"title\"] + advice_dict_top[\"title\"]\n",
        "SUM_BODY_ADVICE = advice_dict[\"body\"] + advice_dict_new[\"body\"] + advice_dict_top[\"body\"]\n",
        "\n",
        "SUM_TITLE_POLITICS = politics_dict[\"title\"] + politics_dict_new[\"title\"] + politics_dict_top[\"title\"]\n",
        "SUM_BODY_POLITICS = politics_dict[\"body\"] + politics_dict_new[\"body\"] + politics_dict_top[\"body\"]\n",
        "\n",
        "SUM_TITLE_OFFMYCHEST = offmychest_dict[\"title\"] + offmychest_dict_new[\"title\"] + offmychest_dict_top[\"title\"]\n",
        "SUM_BODY_OFFMYCHEST = offmychest_dict[\"body\"] + offmychest_dict_new[\"body\"] + offmychest_dict_top[\"body\"]\n",
        "\n",
        "\n",
        "SUM_TITLE_PARANORMAL = paranormal_dict[\"title\"] + paranormal_dict_new[\"title\"] + paranormal_dict_top[\"title\"]\n",
        "SUM_BODY_PARANORMAL = paranormal_dict[\"body\"] + paranormal_dict_new[\"body\"] + paranormal_dict_top[\"body\"]\n",
        "\n",
        "SUM_TITLE_SCIENCE = science_dict[\"title\"] + science_dict_new[\"title\"] + science_dict_top[\"title\"]\n",
        "SUM_BODY_SCIENCE = science_dict[\"body\"] + science_dict_new[\"body\"] + science_dict_top[\"body\"]\n",
        "\n",
        "SUM_TITLE_ANIME = anime_dict[\"title\"] + anime_dict_new[\"title\"] + anime_dict_top[\"title\"]\n",
        "SUM_BODY_ANIME = anime_dict[\"body\"] + anime_dict_new[\"body\"] + anime_dict_top[\"body\"]\n",
        "\n",
        "SUM_TITLE_TECH = tech_dict[\"title\"] + tech_dict_new[\"title\"] + tech_dict_top[\"title\"]\n",
        "SUM_BODY_TECH = tech_dict[\"body\"] + tech_dict_new[\"body\"] + tech_dict_top[\"body\"]\n",
        "\n",
        "\n",
        "SUM_TITLE_PHOTOGRAPHY = photography_dict[\"title\"] + photography_dict_new[\"title\"] + photography_dict_top[\"title\"]\n",
        "SUM_BODY_PHOTOGRAPHY = photography_dict[\"body\"] + photography_dict_new[\"body\"] + photography_dict_top[\"body\"]\n",
        "\n",
        "SUM_TITLE_MANGA = manga_dict[\"title\"] + manga_dict_new[\"title\"] + manga_dict_top[\"title\"]\n",
        "SUM_BODY_MANGA = manga_dict[\"body\"] + manga_dict_new[\"body\"] + manga_dict_top[\"body\"]\n",
        "\n",
        "SUM_TITLE_MUSIC = music_dict[\"title\"] + music_dict_new[\"title\"] + music_dict_top[\"title\"]\n",
        "SUM_BODY_MUSIC = music_dict[\"body\"] + music_dict_new[\"body\"] + music_dict_top[\"body\"]\n",
        "\n",
        "SUM_TITLE_BOOKS = books_dict[\"title\"] + books_dict_new[\"title\"] + books_dict_top[\"title\"]\n",
        "SUM_BODY_BOOKS = books_dict[\"body\"] + books_dict_new[\"body\"] + books_dict_top[\"body\"]\n",
        "\n",
        "SUM_TITLE_GENERAL = general_dict[\"title\"] + general_dict_new[\"title\"] + general_dict_top[\"title\"]\n",
        "SUM_BODY_GENERAL = general_dict[\"body\"] + general_dict_new[\"body\"] + general_dict_top[\"body\"]"
      ],
      "execution_count": null,
      "outputs": []
    },
    {
      "cell_type": "code",
      "metadata": {
        "id": "6bQu-cGurnMc",
        "colab_type": "code",
        "colab": {}
      },
      "source": [
        "SUM_TITLE_TELEVISION = television_dict[\"title\"] + television_dict_new[\"title\"] + television_dict_top[\"title\"]\n",
        "SUM_BODY_TELEVISION = television_dict[\"body\"] + television_dict_new[\"body\"] + television_dict_top[\"body\"]\n",
        "\n",
        "SUM_TITLE_GAMING = gaming_dict[\"title\"] + gaming_dict_new[\"title\"] + gaming_dict_top[\"title\"]\n",
        "SUM_BODY_GAMING = gaming_dict[\"body\"] + gaming_dict_new[\"body\"] + gaming_dict_top[\"body\"]\n",
        "\n",
        "SUM_TITLE_CARS = cars_dict[\"title\"] + cars_dict_new[\"title\"] + cars_dict_top[\"title\"]\n",
        "SUM_BODY_CARS = cars_dict[\"body\"] + cars_dict_new[\"body\"] + cars_dict_top[\"body\"]\n",
        "\n",
        "SUM_TITLE_DIY = diy_dict[\"title\"] + diy_dict_new[\"title\"] + diy_dict_top[\"title\"]\n",
        "SUM_BODY_DIY = diy_dict[\"body\"] + diy_dict_new[\"body\"] + diy_dict_top[\"body\"]\n",
        "\n",
        "SUM_TITLE_ADVICE = advice_dict[\"title\"] + advice_dict_new[\"title\"] + advice_dict_top[\"title\"]\n",
        "SUM_BODY_ADVICE = advice_dict[\"body\"] + advice_dict_new[\"body\"] + advice_dict_top[\"body\"]\n",
        "\n",
        "SUM_TITLE_POLITICS = politics_dict[\"title\"] + politics_dict_new[\"title\"] + politics_dict_top[\"title\"]\n",
        "SUM_BODY_POLITICS = politics_dict[\"body\"] + politics_dict_new[\"body\"] + politics_dict_top[\"body\"]\n",
        "\n",
        "SUM_TITLE_OFFMYCHEST = offmychest_dict[\"title\"] + offmychest_dict_new[\"title\"] + offmychest_dict_top[\"title\"]\n",
        "SUM_BODY_OFFMYCHEST = offmychest_dict[\"body\"] + offmychest_dict_new[\"body\"] + offmychest_dict_top[\"body\"]\n",
        "\n",
        "\n",
        "SUM_TITLE_PARANORMAL = paranormal_dict[\"title\"] + paranormal_dict_new[\"title\"] + paranormal_dict_top[\"title\"]\n",
        "SUM_BODY_PARANORMAL = paranormal_dict[\"body\"] + paranormal_dict_new[\"body\"] + paranormal_dict_top[\"body\"]\n",
        "\n",
        "SUM_TITLE_SCIENCE = science_dict[\"title\"] + science_dict_new[\"title\"] + science_dict_top[\"title\"]\n",
        "SUM_BODY_SCIENCE = science_dict[\"body\"] + science_dict_new[\"body\"] + science_dict_top[\"body\"]\n",
        "\n",
        "SUM_TITLE_ANIME = anime_dict[\"title\"] + anime_dict_new[\"title\"] + anime_dict_top[\"title\"]\n",
        "SUM_BODY_ANIME = anime_dict[\"body\"] + anime_dict_new[\"body\"] + anime_dict_top[\"body\"]\n",
        "\n",
        "SUM_TITLE_TECH = tech_dict[\"title\"] + tech_dict_new[\"title\"] + tech_dict_top[\"title\"]\n",
        "SUM_BODY_TECH = tech_dict[\"body\"] + tech_dict_new[\"body\"] + tech_dict_top[\"body\"]\n",
        "\n",
        "\n",
        "SUM_TITLE_PHOTOGRAPHY = photography_dict[\"title\"] + photography_dict_new[\"title\"] + photography_dict_top[\"title\"]\n",
        "SUM_BODY_PHOTOGRAPHY = photography_dict[\"body\"] + photography_dict_new[\"body\"] + photography_dict_top[\"body\"]\n",
        "\n",
        "SUM_TITLE_MANGA = manga_dict[\"title\"] + manga_dict_new[\"title\"] + manga_dict_top[\"title\"]\n",
        "SUM_BODY_MANGA = manga_dict[\"body\"] + manga_dict_new[\"body\"] + manga_dict_top[\"body\"]\n",
        "\n",
        "SUM_TITLE_MUSIC = music_dict[\"title\"] + music_dict_new[\"title\"] + music_dict_top[\"title\"]\n",
        "SUM_BODY_MUSIC = music_dict[\"body\"] + music_dict_new[\"body\"] + music_dict_top[\"body\"]\n",
        "\n",
        "SUM_TITLE_BOOKS = books_dict[\"title\"] + books_dict_new[\"title\"] + books_dict_top[\"title\"]\n",
        "SUM_BODY_BOOKS = books_dict[\"body\"] + books_dict_new[\"body\"] + books_dict_top[\"body\"]\n",
        "\n",
        "SUM_TITLE_GENERAL = general_dict[\"title\"] + general_dict_new[\"title\"] + general_dict_top[\"title\"]\n",
        "SUM_BODY_GENERAL = general_dict[\"body\"] + general_dict_new[\"body\"] + general_dict_top[\"body\"]"
      ],
      "execution_count": null,
      "outputs": []
    },
    {
      "cell_type": "code",
      "metadata": {
        "id": "1eq4TC5-s6DK",
        "colab_type": "code",
        "colab": {
          "base_uri": "https://localhost:8080/",
          "height": 605
        },
        "outputId": "f9d88293-9058-4f93-b3d9-312e3175182a"
      },
      "source": [
        "print(len(SUM_TITLE_TELEVISION))\n",
        "print(len(SUM_BODY_TELEVISION))\n",
        "\n",
        "print(len(SUM_TITLE_GAMING))\n",
        "print(len(SUM_BODY_GAMING))\n",
        "\n",
        "print(len(SUM_TITLE_CARS))\n",
        "print(len(SUM_BODY_CARS))\n",
        "\n",
        "print(len(SUM_TITLE_DIY))\n",
        "print(len(SUM_BODY_DIY))\n",
        "\n",
        "print(len(SUM_TITLE_ADVICE))\n",
        "print(len(SUM_BODY_ADVICE))\n",
        "\n",
        "print(len(SUM_TITLE_POLITICS))\n",
        "print(len(SUM_BODY_POLITICS))\n",
        "\n",
        "print(len(SUM_TITLE_OFFMYCHEST ))\n",
        "print(len(SUM_BODY_OFFMYCHEST))\n",
        "\n",
        "\n",
        "print(len(SUM_TITLE_PARANORMAL))\n",
        "print(len(SUM_BODY_PARANORMAL))\n",
        "\n",
        "print(len(SUM_TITLE_SCIENCE))\n",
        "print(len(SUM_BODY_SCIENCE))\n",
        "\n",
        "print(len(SUM_TITLE_ANIME))\n",
        "print(len(SUM_BODY_ANIME))\n",
        "print(len(SUM_TITLE_TECH))\n",
        "print(len(SUM_BODY_TECH))\n",
        "\n",
        "\n",
        "print(len(SUM_TITLE_PHOTOGRAPHY))\n",
        "print(len(SUM_BODY_PHOTOGRAPHY))\n",
        "\n",
        "print(len(SUM_TITLE_MANGA))\n",
        "print(len(SUM_BODY_MANGA))\n",
        "print(len(SUM_TITLE_MUSIC))\n",
        "print(len(SUM_BODY_MUSIC))\n",
        "print(len(SUM_TITLE_BOOKS))\n",
        "print(len(SUM_BODY_BOOKS))\n",
        "\n",
        "print(len(SUM_TITLE_GENERAL))\n",
        "print(len(SUM_BODY_GENERAL)) "
      ],
      "execution_count": null,
      "outputs": [
        {
          "output_type": "stream",
          "text": [
            "2328\n",
            "2328\n",
            "2186\n",
            "2186\n",
            "2928\n",
            "2928\n",
            "2266\n",
            "2266\n",
            "2916\n",
            "2916\n",
            "2783\n",
            "2783\n",
            "2929\n",
            "2929\n",
            "2719\n",
            "2719\n",
            "2480\n",
            "2480\n",
            "2794\n",
            "2794\n",
            "1964\n",
            "1964\n",
            "1918\n",
            "1918\n",
            "2956\n",
            "2956\n",
            "2326\n",
            "2326\n",
            "2398\n",
            "2398\n",
            "2550\n",
            "2550\n"
          ],
          "name": "stdout"
        }
      ]
    },
    {
      "cell_type": "code",
      "metadata": {
        "id": "fc2pIFdUtWHb",
        "colab_type": "code",
        "colab": {}
      },
      "source": [
        "SUM_TITLE_TELEVISION = SUM_TITLE_TELEVISION[0:1800]\n",
        "SUM_BODY_TELEVISION = SUM_BODY_TELEVISION[0:1800]\n",
        "\n",
        "SUM_TITLE_GAMING = SUM_TITLE_GAMING[0:1800]\n",
        "SUM_BODY_GAMING = SUM_BODY_GAMING[0:1800]\n",
        "\n",
        "SUM_TITLE_CARS = SUM_TITLE_CARS[0:1800]\n",
        "SUM_BODY_CARS = SUM_BODY_CARS[0:1800]\n",
        "\n",
        "SUM_TITLE_DIY = SUM_TITLE_DIY[0:1800]\n",
        "SUM_BODY_DIY = SUM_BODY_DIY[0:1800]\n",
        "\n",
        "SUM_TITLE_ADVICE = SUM_TITLE_ADVICE[0:1800]\n",
        "SUM_BODY_ADVICE = SUM_BODY_ADVICE[0:1800]\n",
        "\n",
        "SUM_TITLE_POLITICS = SUM_TITLE_POLITICS[0:1800]\n",
        "SUM_BODY_POLITICS = SUM_BODY_POLITICS[0:1800]\n",
        "\n",
        "SUM_TITLE_OFFMYCHEST  = SUM_TITLE_OFFMYCHEST[0:1800]\n",
        "SUM_BODY_OFFMYCHEST = SUM_BODY_OFFMYCHEST[0:1800]\n",
        "\n",
        "\n",
        "SUM_TITLE_PARANORMAL = SUM_TITLE_PARANORMAL[0:1800]\n",
        "SUM_BODY_PARANORMAL = SUM_BODY_PARANORMAL[0:1800]\n",
        "\n",
        "SUM_TITLE_SCIENCE = SUM_TITLE_SCIENCE[0:1800]\n",
        "SUM_BODY_SCIENCE = SUM_BODY_SCIENCE[0:1800]\n",
        "\n",
        "SUM_TITLE_ANIME = SUM_TITLE_ANIME[0:1800]\n",
        "SUM_BODY_ANIME = SUM_BODY_ANIME[0:1800]\n",
        "\n",
        "\n",
        "SUM_TITLE_TECH = SUM_TITLE_TECH[0:1800]\n",
        "SUM_BODY_TECH = SUM_BODY_TECH[0:1800]\n",
        "\n",
        "\n",
        "SUM_TITLE_PHOTOGRAPHY = SUM_TITLE_PHOTOGRAPHY[0:1800]\n",
        "SUM_BODY_PHOTOGRAPHY = SUM_BODY_PHOTOGRAPHY[0:1800]\n",
        "\n",
        "SUM_TITLE_MANGA = SUM_TITLE_MANGA[0:1800]\n",
        "SUM_BODY_MANGA = SUM_BODY_MANGA[0:1800]\n",
        "\n",
        "SUM_TITLE_MUSIC = SUM_TITLE_MUSIC[0:1800]\n",
        "SUM_BODY_MUSIC = SUM_BODY_MUSIC[0:1800]\n",
        "\n",
        "SUM_TITLE_BOOKS = SUM_TITLE_BOOKS[0:1800]\n",
        "SUM_BODY_BOOKS = SUM_BODY_BOOKS[0:1800]\n",
        "\n",
        "SUM_TITLE_GENERAL = SUM_TITLE_GENERAL[0:1800]\n",
        "SUM_BODY_GENERAL = SUM_BODY_GENERAL[0:1800] "
      ],
      "execution_count": null,
      "outputs": []
    },
    {
      "cell_type": "code",
      "metadata": {
        "id": "3APKvXhIyLAY",
        "colab_type": "code",
        "colab": {}
      },
      "source": [
        "ALL_TITLE = SUM_TITLE_TELEVISION + SUM_TITLE_GAMING + SUM_TITLE_CARS + SUM_TITLE_DIY + SUM_TITLE_ADVICE + SUM_TITLE_POLITICS + SUM_TITLE_OFFMYCHEST + SUM_TITLE_PARANORMAL\n",
        "ALL_TITLE = ALL_TITLE + SUM_TITLE_SCIENCE + SUM_TITLE_ANIME + SUM_TITLE_TECH + SUM_TITLE_PHOTOGRAPHY + SUM_TITLE_MANGA + SUM_TITLE_MUSIC + SUM_TITLE_BOOKS + SUM_TITLE_GENERAL\n"
      ],
      "execution_count": null,
      "outputs": []
    },
    {
      "cell_type": "code",
      "metadata": {
        "id": "4pNK720V4Tt5",
        "colab_type": "code",
        "colab": {}
      },
      "source": [
        "ALL_BODY = SUM_BODY_TELEVISION + SUM_BODY_GAMING + SUM_BODY_CARS + SUM_BODY_DIY + SUM_BODY_ADVICE + SUM_BODY_POLITICS + SUM_BODY_OFFMYCHEST + SUM_BODY_PARANORMAL\n",
        "ALL_BODY = ALL_BODY + SUM_BODY_SCIENCE + SUM_BODY_ANIME + SUM_BODY_TECH + SUM_BODY_PHOTOGRAPHY + SUM_BODY_MANGA + SUM_BODY_MUSIC + SUM_BODY_BOOKS + SUM_BODY_GENERAL\n"
      ],
      "execution_count": null,
      "outputs": []
    },
    {
      "cell_type": "code",
      "metadata": {
        "id": "R6upqbeg4ZZX",
        "colab_type": "code",
        "colab": {
          "base_uri": "https://localhost:8080/",
          "height": 54
        },
        "outputId": "097dffac-2b4c-44ef-e64e-1a2a8241c607"
      },
      "source": [
        "print(len(ALL_TITLE))\n",
        "print(len(ALL_BODY))"
      ],
      "execution_count": null,
      "outputs": [
        {
          "output_type": "stream",
          "text": [
            "28800\n",
            "28800\n"
          ],
          "name": "stdout"
        }
      ]
    },
    {
      "cell_type": "code",
      "metadata": {
        "id": "AA8Ot9uL50Cm",
        "colab_type": "code",
        "colab": {
          "base_uri": "https://localhost:8080/",
          "height": 35
        },
        "outputId": "71afbd6f-1bf0-4218-fbd1-a9d28ed41479"
      },
      "source": [
        "television_label = []\n",
        "gaming_label = []\n",
        "cars_label= []\n",
        "diy_label = []\n",
        "advice_label = []\n",
        "politics_label = []\n",
        "offmychest_label = []\n",
        "paranormal_label = []\n",
        "science_label = []\n",
        "anime_label = []\n",
        "tech_label = []\n",
        "photography_label = []\n",
        "manga_label = []\n",
        "music_label = []\n",
        "books_label = []\n",
        "general_label = []\n",
        "for i in range(1800):\n",
        "  television_label.append('television')\n",
        "  gaming_label.append('gaming')\n",
        "  cars_label.append('cars')\n",
        "  diy_label.append('diy')\n",
        "  advice_label.append('advice')\n",
        "  politics_label.append('politics')\n",
        "  offmychest_label.append('offmychest')\n",
        "  paranormal_label.append('paranormal')\n",
        "  science_label.append('science')\n",
        "  anime_label.append('anime')\n",
        "  tech_label.append('tech')\n",
        "  photography_label.append('photography')\n",
        "  manga_label.append('manga')\n",
        "  music_label.append('music')\n",
        "  books_label.append('books')\n",
        "  general_label.append('general')\n",
        "\n",
        "ALL_LABEL = television_label + gaming_label + cars_label + diy_label + advice_label + politics_label\n",
        "ALL_LABEL = ALL_LABEL + offmychest_label + paranormal_label + science_label + anime_label + tech_label + photography_label + manga_label + music_label + books_label + general_label\n",
        "\n",
        "print(len(ALL_LABEL))"
      ],
      "execution_count": null,
      "outputs": [
        {
          "output_type": "stream",
          "text": [
            "28800\n"
          ],
          "name": "stdout"
        }
      ]
    },
    {
      "cell_type": "code",
      "metadata": {
        "id": "_kg57CAi66JW",
        "colab_type": "code",
        "colab": {}
      },
      "source": [
        "data = {'TITLE': ALL_TITLE, 'BODY': ALL_BODY, 'LABEL': ALL_LABEL}\n",
        "\n",
        "df = pd.DataFrame(data)\n",
        "\n",
        "f = open(\"reddit_posts.csv\", \"w\")\n",
        "f.write(df.to_csv())\n",
        "f.close()"
      ],
      "execution_count": null,
      "outputs": []
    },
    {
      "cell_type": "code",
      "metadata": {
        "id": "gLHaXzaY-JXU",
        "colab_type": "code",
        "colab": {}
      },
      "source": [
        ""
      ],
      "execution_count": null,
      "outputs": []
    }
  ]
}