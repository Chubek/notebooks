{
  "nbformat": 4,
  "nbformat_minor": 0,
  "metadata": {
    "colab": {
      "name": "lootbox.ipynb",
      "provenance": []
    },
    "kernelspec": {
      "name": "python3",
      "display_name": "Python 3"
    }
  },
  "cells": [
    {
      "cell_type": "code",
      "metadata": {
        "id": "7PmXPZx2_QGR",
        "colab_type": "code",
        "colab": {}
      },
      "source": [
        "import numpy as np\n",
        "import pandas as pd\n",
        "from sklearn.utils import shuffle"
      ],
      "execution_count": null,
      "outputs": []
    },
    {
      "cell_type": "code",
      "metadata": {
        "id": "dOhcMf7S_x6Z",
        "colab_type": "code",
        "colab": {
          "base_uri": "https://localhost:8080/",
          "height": 54
        },
        "outputId": "2b4458f0-e8ad-4661-de73-6566a954d977"
      },
      "source": [
        "!python -c \"import nltk; nltk.download('stopwords')\""
      ],
      "execution_count": null,
      "outputs": [
        {
          "output_type": "stream",
          "text": [
            "[nltk_data] Downloading package stopwords to /root/nltk_data...\n",
            "[nltk_data]   Package stopwords is already up-to-date!\n"
          ],
          "name": "stdout"
        }
      ]
    },
    {
      "cell_type": "code",
      "metadata": {
        "id": "xrSr2GkTByR4",
        "colab_type": "code",
        "colab": {}
      },
      "source": [
        "from random_word import RandomWords\n",
        "r = RandomWords()\n",
        "from sklearn.utils import shuffle"
      ],
      "execution_count": null,
      "outputs": []
    },
    {
      "cell_type": "code",
      "metadata": {
        "id": "ncyOcLuJVMZT",
        "colab_type": "code",
        "colab": {}
      },
      "source": [
        ""
      ],
      "execution_count": null,
      "outputs": []
    },
    {
      "cell_type": "code",
      "metadata": {
        "id": "TUYmy4S3VQgN",
        "colab_type": "code",
        "colab": {
          "base_uri": "https://localhost:8080/",
          "height": 129
        },
        "outputId": "b8943ced-f8b7-4c74-d406-e08b7475a108"
      },
      "source": [
        "from google.colab import drive\n",
        "drive.mount('/content/drive')"
      ],
      "execution_count": null,
      "outputs": [
        {
          "output_type": "stream",
          "text": [
            "Go to this URL in a browser: https://accounts.google.com/o/oauth2/auth?client_id=947318989803-6bn6qk8qdgf4n4g3pfee6491hc0brc4i.apps.googleusercontent.com&redirect_uri=urn%3aietf%3awg%3aoauth%3a2.0%3aoob&response_type=code&scope=email%20https%3a%2f%2fwww.googleapis.com%2fauth%2fdocs.test%20https%3a%2f%2fwww.googleapis.com%2fauth%2fdrive%20https%3a%2f%2fwww.googleapis.com%2fauth%2fdrive.photos.readonly%20https%3a%2f%2fwww.googleapis.com%2fauth%2fpeopleapi.readonly\n",
            "\n",
            "Enter your authorization code:\n",
            "··········\n",
            "Mounted at /content/drive\n"
          ],
          "name": "stdout"
        }
      ]
    },
    {
      "cell_type": "code",
      "metadata": {
        "id": "29pAqZM4VomR",
        "colab_type": "code",
        "colab": {}
      },
      "source": [
        "prizes = []\n",
        "f = open(\"/content/drive/My Drive/prizes\", 'r')\n",
        "for line in f.readlines():\n",
        "  prizes.append(line.strip())"
      ],
      "execution_count": null,
      "outputs": []
    },
    {
      "cell_type": "code",
      "metadata": {
        "id": "wKj_jA13V2Vg",
        "colab_type": "code",
        "colab": {}
      },
      "source": [
        "synonyms = []"
      ],
      "execution_count": null,
      "outputs": []
    },
    {
      "cell_type": "code",
      "metadata": {
        "id": "yO_J7PeXV7cw",
        "colab_type": "code",
        "colab": {
          "base_uri": "https://localhost:8080/",
          "height": 1000
        },
        "outputId": "7555fe99-ce31-40a8-a7ef-8355bd026249"
      },
      "source": [
        "from nltk.corpus import wordnet\n",
        "from nltk.tokenize import word_tokenize\n",
        "from random import randint\n",
        "import nltk.data\n",
        "\n",
        "tokenizer = nltk.data.load('tokenizers/punkt/english.pickle')\n",
        "\n",
        "for prize in prizes:\n",
        "  # Load the pretrained neural net\n",
        "  \n",
        "\n",
        "# Tokenize the text\n",
        "  tokenized = tokenizer.tokenize(prize)\n",
        "\n",
        "# Get the list of words from the entire text\n",
        "  words = word_tokenize(prize)\n",
        "\n",
        "# Identify the parts of speech\n",
        "  tagged = nltk.pos_tag(words)\n",
        "\n",
        "  for i in range(0,len(words)):\n",
        "    replacements = []\n",
        "\n",
        "    # Only replace nouns with nouns, vowels with vowels etc.\n",
        "      for syn in wordnet.synsets(words[i]):\n",
        "\n",
        "        # Do not attempt to replace proper nouns or determiners\n",
        "          if tagged[i][1] == 'NNP' or tagged[i][1] == 'DT':\n",
        "            break\n",
        "        \n",
        "        # The tokenizer returns strings like NNP, VBP etc\n",
        "        # but the wordnet synonyms has tags like .n.\n",
        "        # So we extract the first character from NNP ie n\n",
        "        # then we check if the dictionary word has a .n. or not \n",
        "         word_type = tagged[i][1][0].lower()\n",
        "        if syn.name().find(\".\"+word_type+\".\"):\n",
        "             # extract the word only\n",
        "            r = syn.name()[0:syn.name().find(\".\")]\n",
        "            replacements.append(r)\n",
        "\n",
        "     if len(replacements) > 0:\n",
        "        # Choose a random replacement\n",
        "        replacement = replacements[randint(0,len(replacements)-1)]\n",
        "        output = output + \" \" + replacement\n",
        "     else:\n",
        "        # If no replacement could be found, then just use the\n",
        "        # original word\n",
        "        output = output + \" \" + words[i]\n",
        "\n",
        "      synonyms.append(output)"
      ],
      "execution_count": null,
      "outputs": [
        {
          "output_type": "stream",
          "text": [
            "['leuchtturm917 notebook']\n",
            "['travel journal']\n",
            "['set tombow mono drawing pens']\n",
            "['set tombow twintone markers pastel']\n",
            "['set tombow pastel dual brush pen']\n",
            "['floral planner doodles book', 'eli brook']\n",
            "['stamp sets', 'stamp block', 'whitney', 'life', 'ink']\n",
            "['set moxidori stencils']\n",
            "['rose k paper co', '20 shop voucher']\n",
            "['10 shop voucher', 'lifeismessyandbrilliant', 'com']\n",
            "['20 shop voucher', 'bumble created']\n",
            "['door hanger journal measurement tools', 'whitney', 'life']\n",
            "['notebook', 'daycraft']\n",
            "['papier tigre notepad']\n",
            "['pilot met fountain pen']\n",
            "['set zebra mildliners']\n",
            "['tombow fudenosuke pen']\n",
            "['set pilot frixion eraseable pens']\n",
            "['floral planner doodles book', 'eli brook']\n",
            "['stamp sets', 'stamp block', 'whitney', 'life', 'ink']\n",
            "['rose k paper co', '15 shop voucher']\n",
            "['blue nittany designs', '15 shop voucher']\n",
            "['bumble created shop door hanger journal measurement tools', '15 voucher', 'whitney', 'life']\n",
            "['lemome dotted journal']\n",
            "['fabric pencil case']\n",
            "['set stabilo boss pastel highlighters']\n",
            "['floral planner doodles book', 'eli brook']\n",
            "['tombow fudenosuke pen']\n",
            "['stamp sets', 'stamp block', 'whitney', 'life', 'ink']\n",
            "['blue nittany designs', '15 shop voucher']\n",
            "['rose k paper co', '15 shop voucher']\n",
            "['bumble created shop door hanger journal measurement tools', '10 voucher', 'whitney', 'life']\n",
            "['£ 50 baden voucher family ticket', 'space centre']\n",
            "['rockingham races', 'family ticket']\n",
            "['west midland', 'family ticket', 'zoo']\n",
            "['trading post voucher voucher', 'go berzerk', '4']\n",
            "['rockingham castle 2', 'family ticket']\n",
            "['corby swimming pool', 'family tickets']\n",
            "['west lodge farm', 'family ticket']\n",
            "['family ticket', 'bowling 2', '1 game']\n",
            "['family tickets', 'play', 'kid']\n",
            "['family ticket', 'burghley house']\n",
            "['trampoline centre 4 tickets', 'family ticket', 'activity world']\n",
            "['foxton locks', 'family ticket']\n",
            "['primary school burton latins', 'st marys c']\n",
            "['association registered chanty', 'parents teacher', 'friend', '1111210']\n",
            "['prizes', 'mayfair', 'drawn']\n",
            "['friday 17th may 2013', 'win', 'present', 'need']\n",
            "['e pnmars school burton latimer', 'st marys c']\n",
            "['raffle prize list fishbowl bar — lombok earthquake fundraiser — 30 august 2018']\n",
            "['1 x extended range sidemount course', '000 baht value amazing prizes', 'koh tao tec divers', '16']\n",
            "['1 pair scuba fins', '6000 baht value', 'roctopus dive', 'goodies']\n",
            "['2 pax sail rock trip w', '5600 baht value', 'mojo divers']\n",
            "['big blue diving resort', '1 x nitrox course', '5500 baht value']\n",
            "['5000 baht value', 'superior room', 'diving resort', '2 nights', 'ban']\n",
            "['2 x rock climbing lessons', '4400 baht value', 'goodtime adventures']\n",
            "['1 x intro freediver course', 'apnea total freediving', '3500 baht value', 'one day']\n",
            "['3 x 1000 baht vouchers', 'la pizzeria italian kitchen']\n",
            "['1 6 beuchat scuba mask', 'sairee cottage diving', '2800 baht value', 'black']\n",
            "['1 x mares x', 'vision ultra mask', '2700 baht value', 'snorkel set', 'ocean republic']\n",
            "['2000 baht bar tab', 'fishbowl beach bar']\n",
            "['2000 baht voucher', 'barracuda restuarant', 'darawan']\n",
            "['2 x fun dives', 'assava dive resort', '1800 baht value']\n",
            "['jamahkiri resort 8', '2 x vouchers', '1600 baht value', 'thai massage', 'spa']\n",
            "['1500 baht value', '1 x voucher', 'flying trapeze']\n",
            "['1000 baht voucher', 'barracuda restuarant', 'bar']\n",
            "['shalimar indian restaurant', '1000 baht voucher']\n",
            "['1000 baht voucher', 'flip flop', 'treacle']\n",
            "['1000 baht voucher', 'paddle boarding', 'stand']\n",
            "['2 x 500 baht vouchers', 'zunami shop']\n",
            "['750 baht value', '1 day detox', 'living juices']\n",
            "['500 baht voucher', 'moose knuckle']\n",
            "['gaza organic lifestyle', '500 baht voucher']\n",
            "['1 x half rack', '300 baht value', 'flaming hog', 'ribs']\n",
            "['1 x hot drink', '1 x cake', '250 baht value', 'factory cafe']\n",
            "['spanish point ), co', 'weekend away', 'armada hotel', 'clare']\n",
            "['radisson blu hotel', 'overnight stay', 'choice']\n",
            "['ireland hurling tickets', 'two']\n",
            "['absolute revival spa day package', 'clara house spa']\n",
            "['timber', 'load']\n",
            "['30 bales', 'briquettes']\n",
            "['thatch restaurant', 'voucher', 'two', 'birr']\n",
            "['radisson blu hotel', 'two', 'lunch', 'athlone']\n",
            "['esker 1', '1ific c4nif', 'fourball']\n",
            "['500 2nd humminbird helix 7', '2']\n",
            "['humminbird helix 5']\n",
            "['humminbird helix 5']\n",
            "['humminbird ice 55']\n",
            "['otter ice house 50th', '1', '000']\n",
            "['otter pro xt lodge shelter']\n",
            "['ice house maverick pride true 42 cooler']\n",
            "['humminbird ice 45 fishfinder otter xth']\n",
            "['cabin hub shelter']\n",
            "['otter fish houses rapala']\n",
            "['aqua vu']\n",
            "['minnkota msu athletic apparel']\n",
            "['red canynonero']\n",
            "['rooster candy']\n",
            "['mody dick dick']\n",
            "['zyklon b']\n",
            "[]\n",
            "[]\n"
          ],
          "name": "stdout"
        }
      ]
    },
    {
      "cell_type": "code",
      "metadata": {
        "id": "i-iaO-xfc_hp",
        "colab_type": "code",
        "colab": {}
      },
      "source": [
        "prize_keywords[2]"
      ],
      "execution_count": null,
      "outputs": []
    },
    {
      "cell_type": "code",
      "metadata": {
        "id": "FzgMv6T3dCbj",
        "colab_type": "code",
        "colab": {
          "base_uri": "https://localhost:8080/",
          "height": 398
        },
        "outputId": "c6680b31-0f70-4eff-99b9-cbe2ee996301"
      },
      "source": [
        "from Crypto.Cipher import AES\n",
        "from Crypto import Random\n",
        "key = \"KILL WILLIAM\"\n",
        "iv = Random.new().read(AES.block_size)\n",
        "cipher = AES.new(key, AES.MODE_CFB, iv)\n",
        "msg = iv + cipher.encrypt('Attack at dawn')\n",
        "msg.encode(\"hex\")\n"
      ],
      "execution_count": null,
      "outputs": [
        {
          "output_type": "error",
          "ename": "ValueError",
          "evalue": "ignored",
          "traceback": [
            "\u001b[0;31m---------------------------------------------------------------------------\u001b[0m",
            "\u001b[0;31mValueError\u001b[0m                                Traceback (most recent call last)",
            "\u001b[0;32m<ipython-input-4-7ce8632ab233>\u001b[0m in \u001b[0;36m<module>\u001b[0;34m()\u001b[0m\n\u001b[1;32m      3\u001b[0m \u001b[0mkey\u001b[0m \u001b[0;34m=\u001b[0m \u001b[0;34m\"KILL WILLIAM\"\u001b[0m\u001b[0;34m\u001b[0m\u001b[0;34m\u001b[0m\u001b[0m\n\u001b[1;32m      4\u001b[0m \u001b[0miv\u001b[0m \u001b[0;34m=\u001b[0m \u001b[0mRandom\u001b[0m\u001b[0;34m.\u001b[0m\u001b[0mnew\u001b[0m\u001b[0;34m(\u001b[0m\u001b[0;34m)\u001b[0m\u001b[0;34m.\u001b[0m\u001b[0mread\u001b[0m\u001b[0;34m(\u001b[0m\u001b[0mAES\u001b[0m\u001b[0;34m.\u001b[0m\u001b[0mblock_size\u001b[0m\u001b[0;34m)\u001b[0m\u001b[0;34m\u001b[0m\u001b[0;34m\u001b[0m\u001b[0m\n\u001b[0;32m----> 5\u001b[0;31m \u001b[0mcipher\u001b[0m \u001b[0;34m=\u001b[0m \u001b[0mAES\u001b[0m\u001b[0;34m.\u001b[0m\u001b[0mnew\u001b[0m\u001b[0;34m(\u001b[0m\u001b[0mkey\u001b[0m\u001b[0;34m,\u001b[0m \u001b[0mAES\u001b[0m\u001b[0;34m.\u001b[0m\u001b[0mMODE_CFB\u001b[0m\u001b[0;34m,\u001b[0m \u001b[0miv\u001b[0m\u001b[0;34m)\u001b[0m\u001b[0;34m\u001b[0m\u001b[0;34m\u001b[0m\u001b[0m\n\u001b[0m\u001b[1;32m      6\u001b[0m \u001b[0mmsg\u001b[0m \u001b[0;34m=\u001b[0m \u001b[0miv\u001b[0m \u001b[0;34m+\u001b[0m \u001b[0mcipher\u001b[0m\u001b[0;34m.\u001b[0m\u001b[0mencrypt\u001b[0m\u001b[0;34m(\u001b[0m\u001b[0;34m'Attack at dawn'\u001b[0m\u001b[0;34m)\u001b[0m\u001b[0;34m\u001b[0m\u001b[0;34m\u001b[0m\u001b[0m\n\u001b[1;32m      7\u001b[0m \u001b[0mmsg\u001b[0m\u001b[0;34m.\u001b[0m\u001b[0mencode\u001b[0m\u001b[0;34m(\u001b[0m\u001b[0;34m\"hex\"\u001b[0m\u001b[0;34m)\u001b[0m\u001b[0;34m\u001b[0m\u001b[0;34m\u001b[0m\u001b[0m\n",
            "\u001b[0;32m/usr/local/lib/python3.6/dist-packages/Crypto/Cipher/AES.py\u001b[0m in \u001b[0;36mnew\u001b[0;34m(key, *args, **kwargs)\u001b[0m\n\u001b[1;32m     93\u001b[0m     \u001b[0;34m:\u001b[0m\u001b[0mReturn\u001b[0m\u001b[0;34m:\u001b[0m \u001b[0man\u001b[0m\u001b[0;31m \u001b[0m\u001b[0;31m`\u001b[0m\u001b[0mAESCipher\u001b[0m\u001b[0;31m`\u001b[0m \u001b[0mobject\u001b[0m\u001b[0;34m\u001b[0m\u001b[0;34m\u001b[0m\u001b[0m\n\u001b[1;32m     94\u001b[0m     \"\"\"\n\u001b[0;32m---> 95\u001b[0;31m     \u001b[0;32mreturn\u001b[0m \u001b[0mAESCipher\u001b[0m\u001b[0;34m(\u001b[0m\u001b[0mkey\u001b[0m\u001b[0;34m,\u001b[0m \u001b[0;34m*\u001b[0m\u001b[0margs\u001b[0m\u001b[0;34m,\u001b[0m \u001b[0;34m**\u001b[0m\u001b[0mkwargs\u001b[0m\u001b[0;34m)\u001b[0m\u001b[0;34m\u001b[0m\u001b[0;34m\u001b[0m\u001b[0m\n\u001b[0m\u001b[1;32m     96\u001b[0m \u001b[0;34m\u001b[0m\u001b[0m\n\u001b[1;32m     97\u001b[0m \u001b[0;31m#: Electronic Code Book (ECB). See `blockalgo.MODE_ECB`.\u001b[0m\u001b[0;34m\u001b[0m\u001b[0;34m\u001b[0m\u001b[0;34m\u001b[0m\u001b[0m\n",
            "\u001b[0;32m/usr/local/lib/python3.6/dist-packages/Crypto/Cipher/AES.py\u001b[0m in \u001b[0;36m__init__\u001b[0;34m(self, key, *args, **kwargs)\u001b[0m\n\u001b[1;32m     57\u001b[0m \u001b[0;34m\u001b[0m\u001b[0m\n\u001b[1;32m     58\u001b[0m         See also `new()` at the module level.\"\"\"\n\u001b[0;32m---> 59\u001b[0;31m         \u001b[0mblockalgo\u001b[0m\u001b[0;34m.\u001b[0m\u001b[0mBlockAlgo\u001b[0m\u001b[0;34m.\u001b[0m\u001b[0m__init__\u001b[0m\u001b[0;34m(\u001b[0m\u001b[0mself\u001b[0m\u001b[0;34m,\u001b[0m \u001b[0m_AES\u001b[0m\u001b[0;34m,\u001b[0m \u001b[0mkey\u001b[0m\u001b[0;34m,\u001b[0m \u001b[0;34m*\u001b[0m\u001b[0margs\u001b[0m\u001b[0;34m,\u001b[0m \u001b[0;34m**\u001b[0m\u001b[0mkwargs\u001b[0m\u001b[0;34m)\u001b[0m\u001b[0;34m\u001b[0m\u001b[0;34m\u001b[0m\u001b[0m\n\u001b[0m\u001b[1;32m     60\u001b[0m \u001b[0;34m\u001b[0m\u001b[0m\n\u001b[1;32m     61\u001b[0m \u001b[0;32mdef\u001b[0m \u001b[0mnew\u001b[0m\u001b[0;34m(\u001b[0m\u001b[0mkey\u001b[0m\u001b[0;34m,\u001b[0m \u001b[0;34m*\u001b[0m\u001b[0margs\u001b[0m\u001b[0;34m,\u001b[0m \u001b[0;34m**\u001b[0m\u001b[0mkwargs\u001b[0m\u001b[0;34m)\u001b[0m\u001b[0;34m:\u001b[0m\u001b[0;34m\u001b[0m\u001b[0;34m\u001b[0m\u001b[0m\n",
            "\u001b[0;32m/usr/local/lib/python3.6/dist-packages/Crypto/Cipher/blockalgo.py\u001b[0m in \u001b[0;36m__init__\u001b[0;34m(self, factory, key, *args, **kwargs)\u001b[0m\n\u001b[1;32m    139\u001b[0m \u001b[0;34m\u001b[0m\u001b[0m\n\u001b[1;32m    140\u001b[0m         \u001b[0;32mif\u001b[0m \u001b[0mself\u001b[0m\u001b[0;34m.\u001b[0m\u001b[0mmode\u001b[0m \u001b[0;34m!=\u001b[0m \u001b[0mMODE_OPENPGP\u001b[0m\u001b[0;34m:\u001b[0m\u001b[0;34m\u001b[0m\u001b[0;34m\u001b[0m\u001b[0m\n\u001b[0;32m--> 141\u001b[0;31m             \u001b[0mself\u001b[0m\u001b[0;34m.\u001b[0m\u001b[0m_cipher\u001b[0m \u001b[0;34m=\u001b[0m \u001b[0mfactory\u001b[0m\u001b[0;34m.\u001b[0m\u001b[0mnew\u001b[0m\u001b[0;34m(\u001b[0m\u001b[0mkey\u001b[0m\u001b[0;34m,\u001b[0m \u001b[0;34m*\u001b[0m\u001b[0margs\u001b[0m\u001b[0;34m,\u001b[0m \u001b[0;34m**\u001b[0m\u001b[0mkwargs\u001b[0m\u001b[0;34m)\u001b[0m\u001b[0;34m\u001b[0m\u001b[0;34m\u001b[0m\u001b[0m\n\u001b[0m\u001b[1;32m    142\u001b[0m             \u001b[0mself\u001b[0m\u001b[0;34m.\u001b[0m\u001b[0mIV\u001b[0m \u001b[0;34m=\u001b[0m \u001b[0mself\u001b[0m\u001b[0;34m.\u001b[0m\u001b[0m_cipher\u001b[0m\u001b[0;34m.\u001b[0m\u001b[0mIV\u001b[0m\u001b[0;34m\u001b[0m\u001b[0;34m\u001b[0m\u001b[0m\n\u001b[1;32m    143\u001b[0m         \u001b[0;32melse\u001b[0m\u001b[0;34m:\u001b[0m\u001b[0;34m\u001b[0m\u001b[0;34m\u001b[0m\u001b[0m\n",
            "\u001b[0;31mValueError\u001b[0m: AES key must be either 16, 24, or 32 bytes long"
          ]
        }
      ]
    },
    {
      "cell_type": "code",
      "metadata": {
        "id": "SoXnYgHdiXQk",
        "colab_type": "code",
        "colab": {
          "base_uri": "https://localhost:8080/",
          "height": 293
        },
        "outputId": "625c4b33-e134-4a58-a499-eb3a31e97b00"
      },
      "source": [
        "!pip install Crypto\n"
      ],
      "execution_count": null,
      "outputs": [
        {
          "output_type": "stream",
          "text": [
            "Collecting Crypto\n",
            "  Downloading https://files.pythonhosted.org/packages/fc/bb/0b812dc02e6357606228edfbf5808f5ca0a675a84273578c3a199e841cd8/crypto-1.4.1-py2.py3-none-any.whl\n",
            "Collecting Naked\n",
            "\u001b[?25l  Downloading https://files.pythonhosted.org/packages/02/36/b8107b51adca73402ec1860d88f41d958e275e60eea6eeaa9c39ddb89a40/Naked-0.1.31-py2.py3-none-any.whl (590kB)\n",
            "\u001b[K     |████████████████████████████████| 593kB 4.1MB/s \n",
            "\u001b[?25hCollecting shellescape\n",
            "  Downloading https://files.pythonhosted.org/packages/d0/f4/0081137fceff5779cd4205c1e96657e41cc2d2d56c940dc8eeb6111780f7/shellescape-3.8.1-py2.py3-none-any.whl\n",
            "Requirement already satisfied: pyyaml in /usr/local/lib/python3.6/dist-packages (from Naked->Crypto) (3.13)\n",
            "Requirement already satisfied: requests in /usr/local/lib/python3.6/dist-packages (from Naked->Crypto) (2.21.0)\n",
            "Requirement already satisfied: urllib3<1.25,>=1.21.1 in /usr/local/lib/python3.6/dist-packages (from requests->Naked->Crypto) (1.24.3)\n",
            "Requirement already satisfied: chardet<3.1.0,>=3.0.2 in /usr/local/lib/python3.6/dist-packages (from requests->Naked->Crypto) (3.0.4)\n",
            "Requirement already satisfied: idna<2.9,>=2.5 in /usr/local/lib/python3.6/dist-packages (from requests->Naked->Crypto) (2.8)\n",
            "Requirement already satisfied: certifi>=2017.4.17 in /usr/local/lib/python3.6/dist-packages (from requests->Naked->Crypto) (2019.11.28)\n",
            "Installing collected packages: Naked, shellescape, Crypto\n",
            "Successfully installed Crypto-1.4.1 Naked-0.1.31 shellescape-3.8.1\n"
          ],
          "name": "stdout"
        }
      ]
    },
    {
      "cell_type": "code",
      "metadata": {
        "id": "BoRbtj_3ia0W",
        "colab_type": "code",
        "colab": {
          "base_uri": "https://localhost:8080/",
          "height": 201
        },
        "outputId": "85a7e530-49db-4108-bad8-d7c7cae7f242"
      },
      "source": [
        "!pip install pycrypto\n"
      ],
      "execution_count": null,
      "outputs": [
        {
          "output_type": "stream",
          "text": [
            "Collecting pycrypto\n",
            "\u001b[?25l  Downloading https://files.pythonhosted.org/packages/60/db/645aa9af249f059cc3a368b118de33889219e0362141e75d4eaf6f80f163/pycrypto-2.6.1.tar.gz (446kB)\n",
            "\r\u001b[K     |▊                               | 10kB 16.2MB/s eta 0:00:01\r\u001b[K     |█▌                              | 20kB 1.6MB/s eta 0:00:01\r\u001b[K     |██▏                             | 30kB 2.3MB/s eta 0:00:01\r\u001b[K     |███                             | 40kB 1.6MB/s eta 0:00:01\r\u001b[K     |███▊                            | 51kB 1.9MB/s eta 0:00:01\r\u001b[K     |████▍                           | 61kB 2.3MB/s eta 0:00:01\r\u001b[K     |█████▏                          | 71kB 2.7MB/s eta 0:00:01\r\u001b[K     |█████▉                          | 81kB 3.0MB/s eta 0:00:01\r\u001b[K     |██████▋                         | 92kB 2.4MB/s eta 0:00:01\r\u001b[K     |███████▍                        | 102kB 2.6MB/s eta 0:00:01\r\u001b[K     |████████                        | 112kB 2.6MB/s eta 0:00:01\r\u001b[K     |████████▉                       | 122kB 2.6MB/s eta 0:00:01\r\u001b[K     |█████████▌                      | 133kB 2.6MB/s eta 0:00:01\r\u001b[K     |██████████▎                     | 143kB 2.6MB/s eta 0:00:01\r\u001b[K     |███████████                     | 153kB 2.6MB/s eta 0:00:01\r\u001b[K     |███████████▊                    | 163kB 2.6MB/s eta 0:00:01\r\u001b[K     |████████████▌                   | 174kB 2.6MB/s eta 0:00:01\r\u001b[K     |█████████████▏                  | 184kB 2.6MB/s eta 0:00:01\r\u001b[K     |██████████████                  | 194kB 2.6MB/s eta 0:00:01\r\u001b[K     |██████████████▊                 | 204kB 2.6MB/s eta 0:00:01\r\u001b[K     |███████████████▍                | 215kB 2.6MB/s eta 0:00:01\r\u001b[K     |████████████████▏               | 225kB 2.6MB/s eta 0:00:01\r\u001b[K     |█████████████████               | 235kB 2.6MB/s eta 0:00:01\r\u001b[K     |█████████████████▋              | 245kB 2.6MB/s eta 0:00:01\r\u001b[K     |██████████████████▍             | 256kB 2.6MB/s eta 0:00:01\r\u001b[K     |███████████████████             | 266kB 2.6MB/s eta 0:00:01\r\u001b[K     |███████████████████▉            | 276kB 2.6MB/s eta 0:00:01\r\u001b[K     |████████████████████▋           | 286kB 2.6MB/s eta 0:00:01\r\u001b[K     |█████████████████████▎          | 296kB 2.6MB/s eta 0:00:01\r\u001b[K     |██████████████████████          | 307kB 2.6MB/s eta 0:00:01\r\u001b[K     |██████████████████████▊         | 317kB 2.6MB/s eta 0:00:01\r\u001b[K     |███████████████████████▌        | 327kB 2.6MB/s eta 0:00:01\r\u001b[K     |████████████████████████▎       | 337kB 2.6MB/s eta 0:00:01\r\u001b[K     |█████████████████████████       | 348kB 2.6MB/s eta 0:00:01\r\u001b[K     |█████████████████████████▊      | 358kB 2.6MB/s eta 0:00:01\r\u001b[K     |██████████████████████████▍     | 368kB 2.6MB/s eta 0:00:01\r\u001b[K     |███████████████████████████▏    | 378kB 2.6MB/s eta 0:00:01\r\u001b[K     |████████████████████████████    | 389kB 2.6MB/s eta 0:00:01\r\u001b[K     |████████████████████████████▋   | 399kB 2.6MB/s eta 0:00:01\r\u001b[K     |█████████████████████████████▍  | 409kB 2.6MB/s eta 0:00:01\r\u001b[K     |██████████████████████████████  | 419kB 2.6MB/s eta 0:00:01\r\u001b[K     |██████████████████████████████▉ | 430kB 2.6MB/s eta 0:00:01\r\u001b[K     |███████████████████████████████▋| 440kB 2.6MB/s eta 0:00:01\r\u001b[K     |████████████████████████████████| 450kB 2.6MB/s \n",
            "\u001b[?25hBuilding wheels for collected packages: pycrypto\n",
            "  Building wheel for pycrypto (setup.py) ... \u001b[?25l\u001b[?25hdone\n",
            "  Created wheel for pycrypto: filename=pycrypto-2.6.1-cp36-cp36m-linux_x86_64.whl size=499958 sha256=1d0d5ad6a9a7dae61d05f395912cee2bd84d16c1b99f9640f8dbd3931354d8a1\n",
            "  Stored in directory: /root/.cache/pip/wheels/27/02/5e/77a69d0c16bb63c6ed32f5386f33a2809c94bd5414a2f6c196\n",
            "Successfully built pycrypto\n",
            "Installing collected packages: pycrypto\n",
            "Successfully installed pycrypto-2.6.1\n"
          ],
          "name": "stdout"
        }
      ]
    },
    {
      "cell_type": "code",
      "metadata": {
        "id": "8ZvKghwYlU2n",
        "colab_type": "code",
        "colab": {}
      },
      "source": [
        ""
      ],
      "execution_count": null,
      "outputs": []
    }
  ]
}